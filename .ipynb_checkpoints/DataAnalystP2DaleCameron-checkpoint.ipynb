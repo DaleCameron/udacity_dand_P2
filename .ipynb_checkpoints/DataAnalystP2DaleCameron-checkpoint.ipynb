{
 "cells": [
  {
   "cell_type": "code",
   "execution_count": 1,
   "metadata": {
    "collapsed": false,
    "deletable": true,
    "editable": true
   },
   "outputs": [
    {
     "name": "stdout",
     "output_type": "stream",
     "text": [
      "Collecting seaborn\n",
      "  Downloading seaborn-0.7.1.tar.gz (158kB)\n",
      "\u001b[K    100% |████████████████████████████████| 163kB 5.4MB/s eta 0:00:01\n",
      "\u001b[?25hBuilding wheels for collected packages: seaborn\n",
      "  Running setup.py bdist_wheel for seaborn ... \u001b[?25l-\b \bdone\n",
      "\u001b[?25h  Stored in directory: /root/.cache/pip/wheels/cb/c8/67/83d615c0ef9b529558525aa521025b183de8c5b156799b091e\n",
      "Successfully built seaborn\n",
      "Installing collected packages: seaborn\n",
      "Successfully installed seaborn-0.7.1\n"
     ]
    }
   ],
   "source": [
    "!sudo pip3 install seaborn"
   ]
  },
  {
   "cell_type": "markdown",
   "metadata": {
    "deletable": true,
    "editable": true
   },
   "source": [
    "# Setup\n",
    "The first part of the notebook is used to setup the libraries, import the data and familiarize myself with some basic questions about the data:\n",
    "- format\n",
    "- Total people\n",
    "- how many, men, women\n",
    "- general age statistics\n",
    "\n",
    "After I have this information I will hopefully be able to ask better questions. \n",
    "\n",
    "##### Skip to the Questions seciton if you don't want to see the setup and inital data exploration."
   ]
  },
  {
   "cell_type": "code",
   "execution_count": 2,
   "metadata": {
    "collapsed": false,
    "deletable": true,
    "editable": true
   },
   "outputs": [],
   "source": [
    "#import important python Libs\n",
    "import numpy as np\n",
    "import pandas as pd\n",
    "import matplotlib.pyplot as plt\n",
    "import seaborn as sns\n",
    "%matplotlib inline"
   ]
  },
  {
   "cell_type": "code",
   "execution_count": 3,
   "metadata": {
    "collapsed": false,
    "deletable": true,
    "editable": true
   },
   "outputs": [
    {
     "data": {
      "text/html": [
       "<div>\n",
       "<table border=\"1\" class=\"dataframe\">\n",
       "  <thead>\n",
       "    <tr style=\"text-align: right;\">\n",
       "      <th></th>\n",
       "      <th>PassengerId</th>\n",
       "      <th>Survived</th>\n",
       "      <th>Pclass</th>\n",
       "      <th>Name</th>\n",
       "      <th>Sex</th>\n",
       "      <th>Age</th>\n",
       "      <th>SibSp</th>\n",
       "      <th>Parch</th>\n",
       "      <th>Ticket</th>\n",
       "      <th>Fare</th>\n",
       "      <th>Cabin</th>\n",
       "      <th>Embarked</th>\n",
       "    </tr>\n",
       "  </thead>\n",
       "  <tbody>\n",
       "    <tr>\n",
       "      <th>0</th>\n",
       "      <td>1</td>\n",
       "      <td>0</td>\n",
       "      <td>3</td>\n",
       "      <td>Braund, Mr. Owen Harris</td>\n",
       "      <td>male</td>\n",
       "      <td>22.0</td>\n",
       "      <td>1</td>\n",
       "      <td>0</td>\n",
       "      <td>A/5 21171</td>\n",
       "      <td>7.2500</td>\n",
       "      <td>NaN</td>\n",
       "      <td>S</td>\n",
       "    </tr>\n",
       "    <tr>\n",
       "      <th>1</th>\n",
       "      <td>2</td>\n",
       "      <td>1</td>\n",
       "      <td>1</td>\n",
       "      <td>Cumings, Mrs. John Bradley (Florence Briggs Th...</td>\n",
       "      <td>female</td>\n",
       "      <td>38.0</td>\n",
       "      <td>1</td>\n",
       "      <td>0</td>\n",
       "      <td>PC 17599</td>\n",
       "      <td>71.2833</td>\n",
       "      <td>C85</td>\n",
       "      <td>C</td>\n",
       "    </tr>\n",
       "    <tr>\n",
       "      <th>2</th>\n",
       "      <td>3</td>\n",
       "      <td>1</td>\n",
       "      <td>3</td>\n",
       "      <td>Heikkinen, Miss. Laina</td>\n",
       "      <td>female</td>\n",
       "      <td>26.0</td>\n",
       "      <td>0</td>\n",
       "      <td>0</td>\n",
       "      <td>STON/O2. 3101282</td>\n",
       "      <td>7.9250</td>\n",
       "      <td>NaN</td>\n",
       "      <td>S</td>\n",
       "    </tr>\n",
       "    <tr>\n",
       "      <th>3</th>\n",
       "      <td>4</td>\n",
       "      <td>1</td>\n",
       "      <td>1</td>\n",
       "      <td>Futrelle, Mrs. Jacques Heath (Lily May Peel)</td>\n",
       "      <td>female</td>\n",
       "      <td>35.0</td>\n",
       "      <td>1</td>\n",
       "      <td>0</td>\n",
       "      <td>113803</td>\n",
       "      <td>53.1000</td>\n",
       "      <td>C123</td>\n",
       "      <td>S</td>\n",
       "    </tr>\n",
       "    <tr>\n",
       "      <th>4</th>\n",
       "      <td>5</td>\n",
       "      <td>0</td>\n",
       "      <td>3</td>\n",
       "      <td>Allen, Mr. William Henry</td>\n",
       "      <td>male</td>\n",
       "      <td>35.0</td>\n",
       "      <td>0</td>\n",
       "      <td>0</td>\n",
       "      <td>373450</td>\n",
       "      <td>8.0500</td>\n",
       "      <td>NaN</td>\n",
       "      <td>S</td>\n",
       "    </tr>\n",
       "  </tbody>\n",
       "</table>\n",
       "</div>"
      ],
      "text/plain": [
       "   PassengerId  Survived  Pclass  \\\n",
       "0            1         0       3   \n",
       "1            2         1       1   \n",
       "2            3         1       3   \n",
       "3            4         1       1   \n",
       "4            5         0       3   \n",
       "\n",
       "                                                Name     Sex   Age  SibSp  \\\n",
       "0                            Braund, Mr. Owen Harris    male  22.0      1   \n",
       "1  Cumings, Mrs. John Bradley (Florence Briggs Th...  female  38.0      1   \n",
       "2                             Heikkinen, Miss. Laina  female  26.0      0   \n",
       "3       Futrelle, Mrs. Jacques Heath (Lily May Peel)  female  35.0      1   \n",
       "4                           Allen, Mr. William Henry    male  35.0      0   \n",
       "\n",
       "   Parch            Ticket     Fare Cabin Embarked  \n",
       "0      0         A/5 21171   7.2500   NaN        S  \n",
       "1      0          PC 17599  71.2833   C85        C  \n",
       "2      0  STON/O2. 3101282   7.9250   NaN        S  \n",
       "3      0            113803  53.1000  C123        S  \n",
       "4      0            373450   8.0500   NaN        S  "
      ]
     },
     "execution_count": 3,
     "metadata": {},
     "output_type": "execute_result"
    }
   ],
   "source": [
    "# pull in the raw data and make sure in formatted correctly\n",
    "# the code for this is based on the example found here:http://matplotlib.org/examples/pylab_examples/barchart_demo.html\n",
    "\n",
    "titanic_data = pd.read_csv('titanic-data.csv')\n",
    "titanic_data.head()"
   ]
  },
  {
   "cell_type": "markdown",
   "metadata": {
    "deletable": true,
    "editable": true
   },
   "source": [
    "### Basic Information about the data"
   ]
  },
  {
   "cell_type": "code",
   "execution_count": 4,
   "metadata": {
    "collapsed": false,
    "deletable": true,
    "editable": true
   },
   "outputs": [
    {
     "name": "stdout",
     "output_type": "stream",
     "text": [
      "There are 891 passengers records in the dataset, 342 of which survived giving a survival rate of 38%\n",
      "Sex\n",
      "female    314\n",
      "male      577\n",
      "dtype: int64\n",
      "Sex     Survived\n",
      "female  0            81\n",
      "        1           233\n",
      "male    0           468\n",
      "        1           109\n",
      "dtype: int64\n",
      "for records with valid ages:\n"
     ]
    },
    {
     "data": {
      "text/plain": [
       "count    714.000000\n",
       "mean      29.699118\n",
       "std       14.526497\n",
       "min        0.420000\n",
       "25%       20.125000\n",
       "50%       28.000000\n",
       "75%       38.000000\n",
       "max       80.000000\n",
       "Name: Age, dtype: float64"
      ]
     },
     "execution_count": 4,
     "metadata": {},
     "output_type": "execute_result"
    }
   ],
   "source": [
    "print(\"There are {} passengers records in the dataset, {} of which survived giving a survival rate of {:.0%}\".format(len(titanic_data),titanic_data['Survived'].sum(), titanic_data['Survived'].mean()))\n",
    "print(titanic_data.groupby('Sex').size())\n",
    "print(titanic_data.groupby(['Sex','Survived']).size())\n",
    "\n",
    "print(\"for records with valid ages:\")\n",
    "valid_age_data = titanic_data[titanic_data['Age'].notnull()]\n",
    "valid_age_data['Age'].describe()\n"
   ]
  },
  {
   "cell_type": "code",
   "execution_count": 5,
   "metadata": {
    "collapsed": false,
    "deletable": true,
    "editable": true
   },
   "outputs": [
    {
     "data": {
      "text/plain": [
       "<matplotlib.axes._subplots.AxesSubplot at 0x7fa571c00c18>"
      ]
     },
     "execution_count": 5,
     "metadata": {},
     "output_type": "execute_result"
    },
    {
     "name": "stderr",
     "output_type": "stream",
     "text": [
      "/usr/lib64/python3.4/dist-packages/matplotlib/font_manager.py:1297: UserWarning: findfont: Font family ['sans-serif'] not found. Falling back to DejaVu Sans\n",
      "  (prop.get_family(), self.defaultFamily[fontext]))\n"
     ]
    },
    {
     "data": {
      "image/png": "[encoded data removed]",
      "text/plain": [
       "<matplotlib.figure.Figure at 0x7fa571c00390>"
      ]
     },
     "metadata": {},
     "output_type": "display_data"
    }
   ],
   "source": [
    "valid_age_data['Age'].hist(bins=16)"
   ]
  },
  {
   "cell_type": "code",
   "execution_count": 6,
   "metadata": {
    "collapsed": false,
    "deletable": true,
    "editable": true
   },
   "outputs": [
    {
     "data": {
      "text/plain": [
       "Embarked\n",
       "C    168\n",
       "Q     77\n",
       "S    644\n",
       "dtype: int64"
      ]
     },
     "execution_count": 6,
     "metadata": {},
     "output_type": "execute_result"
    }
   ],
   "source": [
    "titanic_data.groupby('Embarked').size()"
   ]
  },
  {
   "cell_type": "code",
   "execution_count": 7,
   "metadata": {
    "collapsed": false,
    "deletable": true,
    "editable": true
   },
   "outputs": [
    {
     "data": {
      "text/plain": [
       "Pclass\n",
       "1    216\n",
       "2    184\n",
       "3    491\n",
       "dtype: int64"
      ]
     },
     "execution_count": 7,
     "metadata": {},
     "output_type": "execute_result"
    }
   ],
   "source": [
    "titanic_data.groupby('Pclass').size()"
   ]
  },
  {
   "cell_type": "code",
   "execution_count": 8,
   "metadata": {
    "collapsed": false,
    "deletable": true,
    "editable": true
   },
   "outputs": [
    {
     "data": {
      "text/plain": [
       "count    891.000000\n",
       "mean      32.204208\n",
       "std       49.693429\n",
       "min        0.000000\n",
       "25%        7.910400\n",
       "50%       14.454200\n",
       "75%       31.000000\n",
       "max      512.329200\n",
       "Name: Fare, dtype: float64"
      ]
     },
     "execution_count": 8,
     "metadata": {},
     "output_type": "execute_result"
    }
   ],
   "source": [
    "titanic_data['Fare'].describe()"
   ]
  },
  {
   "cell_type": "code",
   "execution_count": 9,
   "metadata": {
    "collapsed": false,
    "deletable": true,
    "editable": true
   },
   "outputs": [
    {
     "data": {
      "text/plain": [
       "<matplotlib.axes._subplots.AxesSubplot at 0x7fa571b435f8>"
      ]
     },
     "execution_count": 9,
     "metadata": {},
     "output_type": "execute_result"
    },
    {
     "name": "stderr",
     "output_type": "stream",
     "text": [
      "/usr/lib64/python3.4/dist-packages/matplotlib/font_manager.py:1297: UserWarning: findfont: Font family ['sans-serif'] not found. Falling back to DejaVu Sans\n",
      "  (prop.get_family(), self.defaultFamily[fontext]))\n"
     ]
    },
    {
     "data": {
      "image/png": "[encoded data removed]",
      "text/plain": [
       "<matplotlib.figure.Figure at 0x7fa571b66eb8>"
      ]
     },
     "metadata": {},
     "output_type": "display_data"
    }
   ],
   "source": [
    "titanic_data['Fare'].hist(bins=100)"
   ]
  },
  {
   "cell_type": "markdown",
   "metadata": {
    "deletable": true,
    "editable": true
   },
   "source": [
    "## Data Manipulation \n",
    "\n",
    "I need to do some clean up and categorization.\n",
    "Since I will want to combine Fare, and age with other categorical data I will:\n",
    "- convert age to 5 year increments (or unknown)\n",
    "- convert fare to \\$10 increments up to \\$100 then \\$100 to \\$300 and over \\$300"
   ]
  },
  {
   "cell_type": "code",
   "execution_count": 10,
   "metadata": {
    "collapsed": false,
    "deletable": true,
    "editable": true
   },
   "outputs": [],
   "source": [
    "\n",
    "#####For the age calculation I will remove the nan values then do the corrcoef calculation\n",
    "data = titanic_data  # Create a new var before I change it.\n",
    "data_age = data[data['Age'].notnull()]\n",
    "### a diction for storing the list of columns when i convert the categorial data\n",
    "category_columns = {}"
   ]
  },
  {
   "cell_type": "code",
   "execution_count": 11,
   "metadata": {
    "collapsed": false,
    "deletable": true,
    "editable": true
   },
   "outputs": [],
   "source": [
    "\n",
    "## Categorize age in 5 year increments\n",
    "#### it's difficult to use a list comprehision or function here because of the nan values... so I'm goin to use a for loop\n",
    "age_cat = []\n",
    "for a in data['Age']:\n",
    "    if np.isnan(a):\n",
    "        age_cat.append('unknown')\n",
    "    else:\n",
    "        num =int((a//5) * 5)\n",
    "        age_cat.append('age{}to{}'.format(num, num + 5))\n",
    "        \n",
    "age_tmp = pd.get_dummies(age_cat)\n",
    "category_columns[\"Age\"] = age_tmp.columns.values\n",
    "data = pd.concat([data,age_tmp], axis=1)\n",
    "\n",
    "fare_cat = []\n",
    "for a in data['Fare']:\n",
    "    if np.isnan(a):\n",
    "        fare_cat.append('unknown')\n",
    "    elif a >= 200:\n",
    "        fare_cat.append('Fare200+')\n",
    "    else:\n",
    "        num =int((a//10) * 10)\n",
    "        fare_cat.append('fare{}to{}'.format(num, num + 10))\n",
    "fare_tmp = pd.get_dummies(fare_cat)\n",
    "category_columns['Fare'] = fare_tmp.columns.values\n",
    "data = pd.concat([data,fare_tmp], axis=1)\n"
   ]
  },
  {
   "cell_type": "code",
   "execution_count": 12,
   "metadata": {
    "collapsed": false,
    "deletable": true,
    "editable": true
   },
   "outputs": [],
   "source": [
    "#modify the DataFrame to create a set of categorical columns out of colums using he pandas get dummies funcitons\n",
    "#should not be used with age\n",
    "for col in [\"Pclass\",\"Sex\",\"SibSp\",\"Parch\",\"Embarked\"]:\n",
    "    data = pd.concat([data,pd.get_dummies(titanic_data[col], prefix=col)], axis=1)\n",
    "    category_columns[col] = [\"{}_{}\".format(col,c) for c in data[col].unique()]\n",
    "\n",
    "\n"
   ]
  },
  {
   "cell_type": "code",
   "execution_count": 13,
   "metadata": {
    "collapsed": false,
    "deletable": true,
    "editable": true
   },
   "outputs": [
    {
     "data": {
      "text/plain": [
       "0.7420382165605095"
      ]
     },
     "execution_count": 13,
     "metadata": {},
     "output_type": "execute_result"
    }
   ],
   "source": [
    "data[data['Sex_female'] ==1]['Survived'].mean()"
   ]
  },
  {
   "cell_type": "markdown",
   "metadata": {
    "deletable": true,
    "editable": true
   },
   "source": [
    "#### category_columns\n",
    "The category_columns dictionary is used to hold groupings of categories to make it easier to pass them to the caluclate_stats function\n",
    "\n"
   ]
  },
  {
   "cell_type": "code",
   "execution_count": 14,
   "metadata": {
    "collapsed": false,
    "deletable": true,
    "editable": true
   },
   "outputs": [
    {
     "data": {
      "text/plain": [
       "{'Age': array(['age0to5', 'age10to15', 'age15to20', 'age20to25', 'age25to30',\n",
       "        'age30to35', 'age35to40', 'age40to45', 'age45to50', 'age50to55',\n",
       "        'age55to60', 'age5to10', 'age60to65', 'age65to70', 'age70to75',\n",
       "        'age80to85', 'unknown'], dtype=object),\n",
       " 'Embarked': ['Embarked_S', 'Embarked_C', 'Embarked_Q', 'Embarked_nan'],\n",
       " 'Fare': array(['Fare200+', 'fare0to10', 'fare100to110', 'fare10to20',\n",
       "        'fare110to120', 'fare120to130', 'fare130to140', 'fare140to150',\n",
       "        'fare150to160', 'fare160to170', 'fare20to30', 'fare30to40',\n",
       "        'fare40to50', 'fare50to60', 'fare60to70', 'fare70to80',\n",
       "        'fare80to90', 'fare90to100'], dtype=object),\n",
       " 'Parch': ['Parch_0',\n",
       "  'Parch_1',\n",
       "  'Parch_2',\n",
       "  'Parch_5',\n",
       "  'Parch_3',\n",
       "  'Parch_4',\n",
       "  'Parch_6'],\n",
       " 'Pclass': ['Pclass_3', 'Pclass_1', 'Pclass_2'],\n",
       " 'Sex': ['Sex_male', 'Sex_female'],\n",
       " 'SibSp': ['SibSp_1',\n",
       "  'SibSp_0',\n",
       "  'SibSp_3',\n",
       "  'SibSp_4',\n",
       "  'SibSp_2',\n",
       "  'SibSp_5',\n",
       "  'SibSp_8']}"
      ]
     },
     "execution_count": 14,
     "metadata": {},
     "output_type": "execute_result"
    }
   ],
   "source": [
    "category_columns"
   ]
  },
  {
   "cell_type": "code",
   "execution_count": 15,
   "metadata": {
    "collapsed": false,
    "deletable": true,
    "editable": true
   },
   "outputs": [
    {
     "data": {
      "text/plain": [
       "Index(['PassengerId', 'Survived', 'Pclass', 'Name', 'Sex', 'Age', 'SibSp',\n",
       "       'Parch', 'Ticket', 'Fare', 'Cabin', 'Embarked', 'age0to5', 'age10to15',\n",
       "       'age15to20', 'age20to25', 'age25to30', 'age30to35', 'age35to40',\n",
       "       'age40to45', 'age45to50', 'age50to55', 'age55to60', 'age5to10',\n",
       "       'age60to65', 'age65to70', 'age70to75', 'age80to85', 'unknown',\n",
       "       'Fare200+', 'fare0to10', 'fare100to110', 'fare10to20', 'fare110to120',\n",
       "       'fare120to130', 'fare130to140', 'fare140to150', 'fare150to160',\n",
       "       'fare160to170', 'fare20to30', 'fare30to40', 'fare40to50', 'fare50to60',\n",
       "       'fare60to70', 'fare70to80', 'fare80to90', 'fare90to100', 'Pclass_1',\n",
       "       'Pclass_2', 'Pclass_3', 'Sex_female', 'Sex_male', 'SibSp_0', 'SibSp_1',\n",
       "       'SibSp_2', 'SibSp_3', 'SibSp_4', 'SibSp_5', 'SibSp_8', 'Parch_0',\n",
       "       'Parch_1', 'Parch_2', 'Parch_3', 'Parch_4', 'Parch_5', 'Parch_6',\n",
       "       'Embarked_C', 'Embarked_Q', 'Embarked_S'],\n",
       "      dtype='object')"
      ]
     },
     "execution_count": 15,
     "metadata": {},
     "output_type": "execute_result"
    }
   ],
   "source": [
    "data.columns"
   ]
  },
  {
   "cell_type": "markdown",
   "metadata": {
    "deletable": true,
    "editable": true
   },
   "source": [
    "#### create_column_union\n",
    "so that I can easily handle different combination of demographic data the create_column_union function will take 2 columns and generate a new set of columns for unique combination of values with 1 in in the row if the passenger falls matches that combination. for example  females from 30 to 35 in passenger class 2 would be represented with 1 in a column named age30to35&Sex_female&Pclass_2. which is created by combining Sex and Pclass into GenderPclass and then GenderPclass and Age. This will be done below\n",
    "\n",
    "####  calculate_stat and calculate_stats functions\n",
    "The calculate_stat and function takes the data and a column name and return a dataframe with count and survival percent for that rows that have a 1 in it for that column. In other words if a passenger falls into the demographic represented by the column as discribed above they are counted/summarized.\n",
    "\n",
    "calculate_stats calls calculate_stat on each column passed and concats the output"
   ]
  },
  {
   "cell_type": "code",
   "execution_count": 16,
   "metadata": {
    "collapsed": false,
    "deletable": true,
    "editable": true
   },
   "outputs": [],
   "source": [
    "####Function to take a list of categories, combine them and find the survial rate and corrilation \n",
    "def calculate_stat(data, column):\n",
    "\n",
    "    stat = pd.DataFrame(index = [column], columns = [\"Count\", \"Survival Rate\"])\n",
    "    if column in data.columns:\n",
    "        tmp = data[data[column] == 1]\n",
    "        stat[\"Count\"] = len(tmp)\n",
    "        stat[\"Survival Rate\"] = tmp[\"Survived\"].mean()\n",
    "    else:\n",
    "        stat['Count'] = 0\n",
    "        stat['Survival Rate'] = 0\n",
    "    #return only groups that have at least one person who fell into it\n",
    "    return stat[stat['Count'] >0]\n",
    "\n",
    "\n",
    "def calculate_stats(data, cols):\n",
    "    return pd.concat([calculate_stat(data, col) for col in cols]).sort_values(\"Survival Rate\", ascending=False)\n",
    "# This function will take 2 list of columns and create a new pandas array with the value 1 if the passenger has 1 in both columns\n",
    "# this is used to combine categorical data like age and gender\n",
    "def create_column_union(data, column_group1, column_group2):\n",
    "    # create a list of the combined column names\n",
    "    new_columns = pd.DataFrame()\n",
    "    new_column_names = []\n",
    "    for col1 in column_group1:\n",
    "        for col2 in column_group2:\n",
    "            tmp_col_name = \"{}&{}\".format(col1,col2)\n",
    "            if not tmp_col_name in data.columns:\n",
    "                new_columns[tmp_col_name] = np.bitwise_and(data[col1], data[col2])\n",
    "                new_column_names.append(tmp_col_name)           \n",
    "    return new_columns, new_column_names\n"
   ]
  },
  {
   "cell_type": "markdown",
   "metadata": {
    "deletable": true,
    "editable": true
   },
   "source": [
    "##### Now that I have a handy way of creating new groupings of passenger based on the data I can finally get to my questions"
   ]
  },
  {
   "cell_type": "markdown",
   "metadata": {
    "deletable": true,
    "editable": true
   },
   "source": [
    "# Questions\n",
    "\n",
    "The most obvious line of questions is around the survial rate of different demographics represented in the dataset, and this is the aspect of the data that I will be exploring. \n",
    "\n",
    "### Question 1: What were the demographic with the highest and lowest survial rates?\n",
    "\n",
    "Answer this I am going to use the function I created above to categorize the passenger by Gender,PClass and Age, this should be broken down far enough to see some really high survival rates and really low survival rates. \n"
   ]
  },
  {
   "cell_type": "code",
   "execution_count": 17,
   "metadata": {
    "collapsed": false,
    "deletable": true,
    "editable": true
   },
   "outputs": [],
   "source": [
    "new_data, names = create_column_union(data, category_columns[\"Sex\"], category_columns[\"Pclass\"])\n",
    "category_columns[\"PclassGender\"] = names\n",
    "data = pd.concat([data,new_data], axis=1)\n",
    "new_data, names = create_column_union(data, category_columns[\"Age\"], category_columns[\"PclassGender\"])\n",
    "category_columns[\"PclassGenderAge\"] = names\n",
    "data = pd.concat([data,new_data], axis=1)\n"
   ]
  },
  {
   "cell_type": "code",
   "execution_count": 18,
   "metadata": {
    "collapsed": false,
    "deletable": true,
    "editable": true
   },
   "outputs": [
    {
     "data": {
      "text/html": [
       "<div>\n",
       "<table border=\"1\" class=\"dataframe\">\n",
       "  <thead>\n",
       "    <tr style=\"text-align: right;\">\n",
       "      <th></th>\n",
       "      <th>Count</th>\n",
       "      <th>Survival Rate</th>\n",
       "    </tr>\n",
       "  </thead>\n",
       "  <tbody>\n",
       "    <tr>\n",
       "      <th>unknown&amp;Sex_female&amp;Pclass_2</th>\n",
       "      <td>2</td>\n",
       "      <td>1.000000</td>\n",
       "    </tr>\n",
       "    <tr>\n",
       "      <th>age15to20&amp;Sex_female&amp;Pclass_1</th>\n",
       "      <td>12</td>\n",
       "      <td>1.000000</td>\n",
       "    </tr>\n",
       "    <tr>\n",
       "      <th>age0to5&amp;Sex_male&amp;Pclass_1</th>\n",
       "      <td>2</td>\n",
       "      <td>1.000000</td>\n",
       "    </tr>\n",
       "    <tr>\n",
       "      <th>age40to45&amp;Sex_female&amp;Pclass_1</th>\n",
       "      <td>7</td>\n",
       "      <td>1.000000</td>\n",
       "    </tr>\n",
       "    <tr>\n",
       "      <th>age30to35&amp;Sex_female&amp;Pclass_2</th>\n",
       "      <td>12</td>\n",
       "      <td>1.000000</td>\n",
       "    </tr>\n",
       "    <tr>\n",
       "      <th>age30to35&amp;Sex_female&amp;Pclass_1</th>\n",
       "      <td>11</td>\n",
       "      <td>1.000000</td>\n",
       "    </tr>\n",
       "    <tr>\n",
       "      <th>age45to50&amp;Sex_female&amp;Pclass_1</th>\n",
       "      <td>6</td>\n",
       "      <td>1.000000</td>\n",
       "    </tr>\n",
       "    <tr>\n",
       "      <th>age45to50&amp;Sex_female&amp;Pclass_2</th>\n",
       "      <td>3</td>\n",
       "      <td>1.000000</td>\n",
       "    </tr>\n",
       "    <tr>\n",
       "      <th>age50to55&amp;Sex_female&amp;Pclass_2</th>\n",
       "      <td>4</td>\n",
       "      <td>1.000000</td>\n",
       "    </tr>\n",
       "    <tr>\n",
       "      <th>age55to60&amp;Sex_female&amp;Pclass_1</th>\n",
       "      <td>4</td>\n",
       "      <td>1.000000</td>\n",
       "    </tr>\n",
       "    <tr>\n",
       "      <th>age20to25&amp;Sex_female&amp;Pclass_1</th>\n",
       "      <td>13</td>\n",
       "      <td>1.000000</td>\n",
       "    </tr>\n",
       "    <tr>\n",
       "      <th>age5to10&amp;Sex_male&amp;Pclass_2</th>\n",
       "      <td>1</td>\n",
       "      <td>1.000000</td>\n",
       "    </tr>\n",
       "    <tr>\n",
       "      <th>age5to10&amp;Sex_female&amp;Pclass_2</th>\n",
       "      <td>4</td>\n",
       "      <td>1.000000</td>\n",
       "    </tr>\n",
       "    <tr>\n",
       "      <th>age15to20&amp;Sex_female&amp;Pclass_2</th>\n",
       "      <td>6</td>\n",
       "      <td>1.000000</td>\n",
       "    </tr>\n",
       "    <tr>\n",
       "      <th>age35to40&amp;Sex_female&amp;Pclass_1</th>\n",
       "      <td>16</td>\n",
       "      <td>1.000000</td>\n",
       "    </tr>\n",
       "    <tr>\n",
       "      <th>age10to15&amp;Sex_female&amp;Pclass_1</th>\n",
       "      <td>1</td>\n",
       "      <td>1.000000</td>\n",
       "    </tr>\n",
       "    <tr>\n",
       "      <th>age10to15&amp;Sex_female&amp;Pclass_2</th>\n",
       "      <td>2</td>\n",
       "      <td>1.000000</td>\n",
       "    </tr>\n",
       "    <tr>\n",
       "      <th>age10to15&amp;Sex_male&amp;Pclass_1</th>\n",
       "      <td>1</td>\n",
       "      <td>1.000000</td>\n",
       "    </tr>\n",
       "    <tr>\n",
       "      <th>unknown&amp;Sex_female&amp;Pclass_1</th>\n",
       "      <td>9</td>\n",
       "      <td>1.000000</td>\n",
       "    </tr>\n",
       "    <tr>\n",
       "      <th>age80to85&amp;Sex_male&amp;Pclass_1</th>\n",
       "      <td>1</td>\n",
       "      <td>1.000000</td>\n",
       "    </tr>\n",
       "    <tr>\n",
       "      <th>age0to5&amp;Sex_female&amp;Pclass_2</th>\n",
       "      <td>4</td>\n",
       "      <td>1.000000</td>\n",
       "    </tr>\n",
       "    <tr>\n",
       "      <th>age0to5&amp;Sex_male&amp;Pclass_2</th>\n",
       "      <td>8</td>\n",
       "      <td>1.000000</td>\n",
       "    </tr>\n",
       "    <tr>\n",
       "      <th>age60to65&amp;Sex_female&amp;Pclass_1</th>\n",
       "      <td>3</td>\n",
       "      <td>1.000000</td>\n",
       "    </tr>\n",
       "    <tr>\n",
       "      <th>age60to65&amp;Sex_female&amp;Pclass_3</th>\n",
       "      <td>1</td>\n",
       "      <td>1.000000</td>\n",
       "    </tr>\n",
       "    <tr>\n",
       "      <th>age20to25&amp;Sex_female&amp;Pclass_2</th>\n",
       "      <td>11</td>\n",
       "      <td>0.909091</td>\n",
       "    </tr>\n",
       "    <tr>\n",
       "      <th>age50to55&amp;Sex_female&amp;Pclass_1</th>\n",
       "      <td>8</td>\n",
       "      <td>0.875000</td>\n",
       "    </tr>\n",
       "    <tr>\n",
       "      <th>age40to45&amp;Sex_female&amp;Pclass_2</th>\n",
       "      <td>7</td>\n",
       "      <td>0.857143</td>\n",
       "    </tr>\n",
       "    <tr>\n",
       "      <th>age25to30&amp;Sex_female&amp;Pclass_2</th>\n",
       "      <td>14</td>\n",
       "      <td>0.857143</td>\n",
       "    </tr>\n",
       "    <tr>\n",
       "      <th>age35to40&amp;Sex_female&amp;Pclass_2</th>\n",
       "      <td>5</td>\n",
       "      <td>0.800000</td>\n",
       "    </tr>\n",
       "    <tr>\n",
       "      <th>age0to5&amp;Sex_female&amp;Pclass_3</th>\n",
       "      <td>12</td>\n",
       "      <td>0.666667</td>\n",
       "    </tr>\n",
       "    <tr>\n",
       "      <th>...</th>\n",
       "      <td>...</td>\n",
       "      <td>...</td>\n",
       "    </tr>\n",
       "    <tr>\n",
       "      <th>age40to45&amp;Sex_male&amp;Pclass_2</th>\n",
       "      <td>5</td>\n",
       "      <td>0.200000</td>\n",
       "    </tr>\n",
       "    <tr>\n",
       "      <th>age55to60&amp;Sex_male&amp;Pclass_1</th>\n",
       "      <td>6</td>\n",
       "      <td>0.166667</td>\n",
       "    </tr>\n",
       "    <tr>\n",
       "      <th>age10to15&amp;Sex_male&amp;Pclass_3</th>\n",
       "      <td>6</td>\n",
       "      <td>0.166667</td>\n",
       "    </tr>\n",
       "    <tr>\n",
       "      <th>age30to35&amp;Sex_male&amp;Pclass_2</th>\n",
       "      <td>20</td>\n",
       "      <td>0.150000</td>\n",
       "    </tr>\n",
       "    <tr>\n",
       "      <th>age45to50&amp;Sex_male&amp;Pclass_3</th>\n",
       "      <td>7</td>\n",
       "      <td>0.142857</td>\n",
       "    </tr>\n",
       "    <tr>\n",
       "      <th>age60to65&amp;Sex_male&amp;Pclass_1</th>\n",
       "      <td>8</td>\n",
       "      <td>0.125000</td>\n",
       "    </tr>\n",
       "    <tr>\n",
       "      <th>age20to25&amp;Sex_male&amp;Pclass_3</th>\n",
       "      <td>55</td>\n",
       "      <td>0.109091</td>\n",
       "    </tr>\n",
       "    <tr>\n",
       "      <th>age15to20&amp;Sex_male&amp;Pclass_2</th>\n",
       "      <td>10</td>\n",
       "      <td>0.100000</td>\n",
       "    </tr>\n",
       "    <tr>\n",
       "      <th>unknown&amp;Sex_male&amp;Pclass_3</th>\n",
       "      <td>94</td>\n",
       "      <td>0.095745</td>\n",
       "    </tr>\n",
       "    <tr>\n",
       "      <th>age15to20&amp;Sex_male&amp;Pclass_3</th>\n",
       "      <td>36</td>\n",
       "      <td>0.083333</td>\n",
       "    </tr>\n",
       "    <tr>\n",
       "      <th>age35to40&amp;Sex_male&amp;Pclass_3</th>\n",
       "      <td>18</td>\n",
       "      <td>0.055556</td>\n",
       "    </tr>\n",
       "    <tr>\n",
       "      <th>age40to45&amp;Sex_male&amp;Pclass_3</th>\n",
       "      <td>18</td>\n",
       "      <td>0.055556</td>\n",
       "    </tr>\n",
       "    <tr>\n",
       "      <th>age70to75&amp;Sex_male&amp;Pclass_1</th>\n",
       "      <td>3</td>\n",
       "      <td>0.000000</td>\n",
       "    </tr>\n",
       "    <tr>\n",
       "      <th>age0to5&amp;Sex_female&amp;Pclass_1</th>\n",
       "      <td>1</td>\n",
       "      <td>0.000000</td>\n",
       "    </tr>\n",
       "    <tr>\n",
       "      <th>age45to50&amp;Sex_male&amp;Pclass_2</th>\n",
       "      <td>3</td>\n",
       "      <td>0.000000</td>\n",
       "    </tr>\n",
       "    <tr>\n",
       "      <th>age45to50&amp;Sex_female&amp;Pclass_3</th>\n",
       "      <td>5</td>\n",
       "      <td>0.000000</td>\n",
       "    </tr>\n",
       "    <tr>\n",
       "      <th>age50to55&amp;Sex_male&amp;Pclass_3</th>\n",
       "      <td>4</td>\n",
       "      <td>0.000000</td>\n",
       "    </tr>\n",
       "    <tr>\n",
       "      <th>age50to55&amp;Sex_male&amp;Pclass_2</th>\n",
       "      <td>7</td>\n",
       "      <td>0.000000</td>\n",
       "    </tr>\n",
       "    <tr>\n",
       "      <th>age25to30&amp;Sex_male&amp;Pclass_2</th>\n",
       "      <td>16</td>\n",
       "      <td>0.000000</td>\n",
       "    </tr>\n",
       "    <tr>\n",
       "      <th>age70to75&amp;Sex_male&amp;Pclass_2</th>\n",
       "      <td>1</td>\n",
       "      <td>0.000000</td>\n",
       "    </tr>\n",
       "    <tr>\n",
       "      <th>age40to45&amp;Sex_female&amp;Pclass_3</th>\n",
       "      <td>4</td>\n",
       "      <td>0.000000</td>\n",
       "    </tr>\n",
       "    <tr>\n",
       "      <th>age60to65&amp;Sex_male&amp;Pclass_3</th>\n",
       "      <td>1</td>\n",
       "      <td>0.000000</td>\n",
       "    </tr>\n",
       "    <tr>\n",
       "      <th>age65to70&amp;Sex_male&amp;Pclass_2</th>\n",
       "      <td>1</td>\n",
       "      <td>0.000000</td>\n",
       "    </tr>\n",
       "    <tr>\n",
       "      <th>age65to70&amp;Sex_male&amp;Pclass_1</th>\n",
       "      <td>2</td>\n",
       "      <td>0.000000</td>\n",
       "    </tr>\n",
       "    <tr>\n",
       "      <th>age65to70&amp;Sex_male&amp;Pclass_3</th>\n",
       "      <td>1</td>\n",
       "      <td>0.000000</td>\n",
       "    </tr>\n",
       "    <tr>\n",
       "      <th>age55to60&amp;Sex_male&amp;Pclass_3</th>\n",
       "      <td>2</td>\n",
       "      <td>0.000000</td>\n",
       "    </tr>\n",
       "    <tr>\n",
       "      <th>age55to60&amp;Sex_male&amp;Pclass_2</th>\n",
       "      <td>2</td>\n",
       "      <td>0.000000</td>\n",
       "    </tr>\n",
       "    <tr>\n",
       "      <th>age20to25&amp;Sex_male&amp;Pclass_2</th>\n",
       "      <td>12</td>\n",
       "      <td>0.000000</td>\n",
       "    </tr>\n",
       "    <tr>\n",
       "      <th>age35to40&amp;Sex_male&amp;Pclass_2</th>\n",
       "      <td>11</td>\n",
       "      <td>0.000000</td>\n",
       "    </tr>\n",
       "    <tr>\n",
       "      <th>age70to75&amp;Sex_male&amp;Pclass_3</th>\n",
       "      <td>2</td>\n",
       "      <td>0.000000</td>\n",
       "    </tr>\n",
       "  </tbody>\n",
       "</table>\n",
       "<p>85 rows × 2 columns</p>\n",
       "</div>"
      ],
      "text/plain": [
       "                               Count  Survival Rate\n",
       "unknown&Sex_female&Pclass_2        2       1.000000\n",
       "age15to20&Sex_female&Pclass_1     12       1.000000\n",
       "age0to5&Sex_male&Pclass_1          2       1.000000\n",
       "age40to45&Sex_female&Pclass_1      7       1.000000\n",
       "age30to35&Sex_female&Pclass_2     12       1.000000\n",
       "age30to35&Sex_female&Pclass_1     11       1.000000\n",
       "age45to50&Sex_female&Pclass_1      6       1.000000\n",
       "age45to50&Sex_female&Pclass_2      3       1.000000\n",
       "age50to55&Sex_female&Pclass_2      4       1.000000\n",
       "age55to60&Sex_female&Pclass_1      4       1.000000\n",
       "age20to25&Sex_female&Pclass_1     13       1.000000\n",
       "age5to10&Sex_male&Pclass_2         1       1.000000\n",
       "age5to10&Sex_female&Pclass_2       4       1.000000\n",
       "age15to20&Sex_female&Pclass_2      6       1.000000\n",
       "age35to40&Sex_female&Pclass_1     16       1.000000\n",
       "age10to15&Sex_female&Pclass_1      1       1.000000\n",
       "age10to15&Sex_female&Pclass_2      2       1.000000\n",
       "age10to15&Sex_male&Pclass_1        1       1.000000\n",
       "unknown&Sex_female&Pclass_1        9       1.000000\n",
       "age80to85&Sex_male&Pclass_1        1       1.000000\n",
       "age0to5&Sex_female&Pclass_2        4       1.000000\n",
       "age0to5&Sex_male&Pclass_2          8       1.000000\n",
       "age60to65&Sex_female&Pclass_1      3       1.000000\n",
       "age60to65&Sex_female&Pclass_3      1       1.000000\n",
       "age20to25&Sex_female&Pclass_2     11       0.909091\n",
       "age50to55&Sex_female&Pclass_1      8       0.875000\n",
       "age40to45&Sex_female&Pclass_2      7       0.857143\n",
       "age25to30&Sex_female&Pclass_2     14       0.857143\n",
       "age35to40&Sex_female&Pclass_2      5       0.800000\n",
       "age0to5&Sex_female&Pclass_3       12       0.666667\n",
       "...                              ...            ...\n",
       "age40to45&Sex_male&Pclass_2        5       0.200000\n",
       "age55to60&Sex_male&Pclass_1        6       0.166667\n",
       "age10to15&Sex_male&Pclass_3        6       0.166667\n",
       "age30to35&Sex_male&Pclass_2       20       0.150000\n",
       "age45to50&Sex_male&Pclass_3        7       0.142857\n",
       "age60to65&Sex_male&Pclass_1        8       0.125000\n",
       "age20to25&Sex_male&Pclass_3       55       0.109091\n",
       "age15to20&Sex_male&Pclass_2       10       0.100000\n",
       "unknown&Sex_male&Pclass_3         94       0.095745\n",
       "age15to20&Sex_male&Pclass_3       36       0.083333\n",
       "age35to40&Sex_male&Pclass_3       18       0.055556\n",
       "age40to45&Sex_male&Pclass_3       18       0.055556\n",
       "age70to75&Sex_male&Pclass_1        3       0.000000\n",
       "age0to5&Sex_female&Pclass_1        1       0.000000\n",
       "age45to50&Sex_male&Pclass_2        3       0.000000\n",
       "age45to50&Sex_female&Pclass_3      5       0.000000\n",
       "age50to55&Sex_male&Pclass_3        4       0.000000\n",
       "age50to55&Sex_male&Pclass_2        7       0.000000\n",
       "age25to30&Sex_male&Pclass_2       16       0.000000\n",
       "age70to75&Sex_male&Pclass_2        1       0.000000\n",
       "age40to45&Sex_female&Pclass_3      4       0.000000\n",
       "age60to65&Sex_male&Pclass_3        1       0.000000\n",
       "age65to70&Sex_male&Pclass_2        1       0.000000\n",
       "age65to70&Sex_male&Pclass_1        2       0.000000\n",
       "age65to70&Sex_male&Pclass_3        1       0.000000\n",
       "age55to60&Sex_male&Pclass_3        2       0.000000\n",
       "age55to60&Sex_male&Pclass_2        2       0.000000\n",
       "age20to25&Sex_male&Pclass_2       12       0.000000\n",
       "age35to40&Sex_male&Pclass_2       11       0.000000\n",
       "age70to75&Sex_male&Pclass_3        2       0.000000\n",
       "\n",
       "[85 rows x 2 columns]"
      ]
     },
     "execution_count": 18,
     "metadata": {},
     "output_type": "execute_result"
    }
   ],
   "source": [
    "pclass_gender_age = calculate_stats(data, category_columns['PclassGenderAge'])\n",
    "pclass_gender_age"
   ]
  },
  {
   "cell_type": "markdown",
   "metadata": {
    "deletable": true,
    "editable": true
   },
   "source": [
    "### Question 1 - Thoughts\n",
    "After combining the PClass, Gender and Age I can see that I have gone to far even before I create any visuals. If I only consider groups that have 10 or more members There are multiple groups that have a 100% survival rate as well as a 0% survival rate. I am going to look add the data little more generally and see what I find. "
   ]
  },
  {
   "cell_type": "code",
   "execution_count": 19,
   "metadata": {
    "collapsed": false,
    "deletable": true,
    "editable": true
   },
   "outputs": [
    {
     "data": {
      "text/html": [
       "<div>\n",
       "<table border=\"1\" class=\"dataframe\">\n",
       "  <thead>\n",
       "    <tr style=\"text-align: right;\">\n",
       "      <th></th>\n",
       "      <th>Count</th>\n",
       "      <th>Survival Rate</th>\n",
       "    </tr>\n",
       "  </thead>\n",
       "  <tbody>\n",
       "    <tr>\n",
       "      <th>age15to20&amp;Sex_female&amp;Pclass_1</th>\n",
       "      <td>12</td>\n",
       "      <td>1.000000</td>\n",
       "    </tr>\n",
       "    <tr>\n",
       "      <th>age30to35&amp;Sex_female&amp;Pclass_2</th>\n",
       "      <td>12</td>\n",
       "      <td>1.000000</td>\n",
       "    </tr>\n",
       "    <tr>\n",
       "      <th>age30to35&amp;Sex_female&amp;Pclass_1</th>\n",
       "      <td>11</td>\n",
       "      <td>1.000000</td>\n",
       "    </tr>\n",
       "    <tr>\n",
       "      <th>age20to25&amp;Sex_female&amp;Pclass_1</th>\n",
       "      <td>13</td>\n",
       "      <td>1.000000</td>\n",
       "    </tr>\n",
       "    <tr>\n",
       "      <th>age35to40&amp;Sex_female&amp;Pclass_1</th>\n",
       "      <td>16</td>\n",
       "      <td>1.000000</td>\n",
       "    </tr>\n",
       "    <tr>\n",
       "      <th>age20to25&amp;Sex_female&amp;Pclass_2</th>\n",
       "      <td>11</td>\n",
       "      <td>0.909091</td>\n",
       "    </tr>\n",
       "    <tr>\n",
       "      <th>age25to30&amp;Sex_female&amp;Pclass_2</th>\n",
       "      <td>14</td>\n",
       "      <td>0.857143</td>\n",
       "    </tr>\n",
       "    <tr>\n",
       "      <th>age0to5&amp;Sex_female&amp;Pclass_3</th>\n",
       "      <td>12</td>\n",
       "      <td>0.666667</td>\n",
       "    </tr>\n",
       "    <tr>\n",
       "      <th>age25to30&amp;Sex_male&amp;Pclass_1</th>\n",
       "      <td>13</td>\n",
       "      <td>0.615385</td>\n",
       "    </tr>\n",
       "    <tr>\n",
       "      <th>age15to20&amp;Sex_female&amp;Pclass_3</th>\n",
       "      <td>18</td>\n",
       "      <td>0.611111</td>\n",
       "    </tr>\n",
       "    <tr>\n",
       "      <th>unknown&amp;Sex_female&amp;Pclass_3</th>\n",
       "      <td>42</td>\n",
       "      <td>0.595238</td>\n",
       "    </tr>\n",
       "    <tr>\n",
       "      <th>age35to40&amp;Sex_male&amp;Pclass_1</th>\n",
       "      <td>16</td>\n",
       "      <td>0.562500</td>\n",
       "    </tr>\n",
       "    <tr>\n",
       "      <th>age20to25&amp;Sex_female&amp;Pclass_3</th>\n",
       "      <td>18</td>\n",
       "      <td>0.500000</td>\n",
       "    </tr>\n",
       "    <tr>\n",
       "      <th>age25to30&amp;Sex_female&amp;Pclass_3</th>\n",
       "      <td>13</td>\n",
       "      <td>0.461538</td>\n",
       "    </tr>\n",
       "    <tr>\n",
       "      <th>age30to35&amp;Sex_female&amp;Pclass_3</th>\n",
       "      <td>10</td>\n",
       "      <td>0.400000</td>\n",
       "    </tr>\n",
       "    <tr>\n",
       "      <th>age0to5&amp;Sex_male&amp;Pclass_3</th>\n",
       "      <td>13</td>\n",
       "      <td>0.384615</td>\n",
       "    </tr>\n",
       "    <tr>\n",
       "      <th>age45to50&amp;Sex_male&amp;Pclass_1</th>\n",
       "      <td>17</td>\n",
       "      <td>0.352941</td>\n",
       "    </tr>\n",
       "    <tr>\n",
       "      <th>unknown&amp;Sex_male&amp;Pclass_1</th>\n",
       "      <td>21</td>\n",
       "      <td>0.238095</td>\n",
       "    </tr>\n",
       "    <tr>\n",
       "      <th>age25to30&amp;Sex_male&amp;Pclass_3</th>\n",
       "      <td>47</td>\n",
       "      <td>0.212766</td>\n",
       "    </tr>\n",
       "    <tr>\n",
       "      <th>age30to35&amp;Sex_male&amp;Pclass_3</th>\n",
       "      <td>35</td>\n",
       "      <td>0.200000</td>\n",
       "    </tr>\n",
       "    <tr>\n",
       "      <th>age30to35&amp;Sex_male&amp;Pclass_2</th>\n",
       "      <td>20</td>\n",
       "      <td>0.150000</td>\n",
       "    </tr>\n",
       "    <tr>\n",
       "      <th>age20to25&amp;Sex_male&amp;Pclass_3</th>\n",
       "      <td>55</td>\n",
       "      <td>0.109091</td>\n",
       "    </tr>\n",
       "    <tr>\n",
       "      <th>age15to20&amp;Sex_male&amp;Pclass_2</th>\n",
       "      <td>10</td>\n",
       "      <td>0.100000</td>\n",
       "    </tr>\n",
       "    <tr>\n",
       "      <th>unknown&amp;Sex_male&amp;Pclass_3</th>\n",
       "      <td>94</td>\n",
       "      <td>0.095745</td>\n",
       "    </tr>\n",
       "    <tr>\n",
       "      <th>age15to20&amp;Sex_male&amp;Pclass_3</th>\n",
       "      <td>36</td>\n",
       "      <td>0.083333</td>\n",
       "    </tr>\n",
       "    <tr>\n",
       "      <th>age35to40&amp;Sex_male&amp;Pclass_3</th>\n",
       "      <td>18</td>\n",
       "      <td>0.055556</td>\n",
       "    </tr>\n",
       "    <tr>\n",
       "      <th>age40to45&amp;Sex_male&amp;Pclass_3</th>\n",
       "      <td>18</td>\n",
       "      <td>0.055556</td>\n",
       "    </tr>\n",
       "    <tr>\n",
       "      <th>age25to30&amp;Sex_male&amp;Pclass_2</th>\n",
       "      <td>16</td>\n",
       "      <td>0.000000</td>\n",
       "    </tr>\n",
       "    <tr>\n",
       "      <th>age20to25&amp;Sex_male&amp;Pclass_2</th>\n",
       "      <td>12</td>\n",
       "      <td>0.000000</td>\n",
       "    </tr>\n",
       "    <tr>\n",
       "      <th>age35to40&amp;Sex_male&amp;Pclass_2</th>\n",
       "      <td>11</td>\n",
       "      <td>0.000000</td>\n",
       "    </tr>\n",
       "  </tbody>\n",
       "</table>\n",
       "</div>"
      ],
      "text/plain": [
       "                               Count  Survival Rate\n",
       "age15to20&Sex_female&Pclass_1     12       1.000000\n",
       "age30to35&Sex_female&Pclass_2     12       1.000000\n",
       "age30to35&Sex_female&Pclass_1     11       1.000000\n",
       "age20to25&Sex_female&Pclass_1     13       1.000000\n",
       "age35to40&Sex_female&Pclass_1     16       1.000000\n",
       "age20to25&Sex_female&Pclass_2     11       0.909091\n",
       "age25to30&Sex_female&Pclass_2     14       0.857143\n",
       "age0to5&Sex_female&Pclass_3       12       0.666667\n",
       "age25to30&Sex_male&Pclass_1       13       0.615385\n",
       "age15to20&Sex_female&Pclass_3     18       0.611111\n",
       "unknown&Sex_female&Pclass_3       42       0.595238\n",
       "age35to40&Sex_male&Pclass_1       16       0.562500\n",
       "age20to25&Sex_female&Pclass_3     18       0.500000\n",
       "age25to30&Sex_female&Pclass_3     13       0.461538\n",
       "age30to35&Sex_female&Pclass_3     10       0.400000\n",
       "age0to5&Sex_male&Pclass_3         13       0.384615\n",
       "age45to50&Sex_male&Pclass_1       17       0.352941\n",
       "unknown&Sex_male&Pclass_1         21       0.238095\n",
       "age25to30&Sex_male&Pclass_3       47       0.212766\n",
       "age30to35&Sex_male&Pclass_3       35       0.200000\n",
       "age30to35&Sex_male&Pclass_2       20       0.150000\n",
       "age20to25&Sex_male&Pclass_3       55       0.109091\n",
       "age15to20&Sex_male&Pclass_2       10       0.100000\n",
       "unknown&Sex_male&Pclass_3         94       0.095745\n",
       "age15to20&Sex_male&Pclass_3       36       0.083333\n",
       "age35to40&Sex_male&Pclass_3       18       0.055556\n",
       "age40to45&Sex_male&Pclass_3       18       0.055556\n",
       "age25to30&Sex_male&Pclass_2       16       0.000000\n",
       "age20to25&Sex_male&Pclass_2       12       0.000000\n",
       "age35to40&Sex_male&Pclass_2       11       0.000000"
      ]
     },
     "execution_count": 19,
     "metadata": {},
     "output_type": "execute_result"
    }
   ],
   "source": [
    "pclass_gender_age[pclass_gender_age['Count'] >= 10]"
   ]
  },
  {
   "cell_type": "code",
   "execution_count": 20,
   "metadata": {
    "collapsed": false,
    "deletable": true,
    "editable": true
   },
   "outputs": [
    {
     "data": {
      "text/html": [
       "<div>\n",
       "<table border=\"1\" class=\"dataframe\">\n",
       "  <thead>\n",
       "    <tr style=\"text-align: right;\">\n",
       "      <th></th>\n",
       "      <th>Count</th>\n",
       "      <th>Survival Rate</th>\n",
       "    </tr>\n",
       "  </thead>\n",
       "  <tbody>\n",
       "    <tr>\n",
       "      <th>Sex_female&amp;Pclass_1</th>\n",
       "      <td>94</td>\n",
       "      <td>0.968085</td>\n",
       "    </tr>\n",
       "    <tr>\n",
       "      <th>Sex_female&amp;Pclass_2</th>\n",
       "      <td>76</td>\n",
       "      <td>0.921053</td>\n",
       "    </tr>\n",
       "    <tr>\n",
       "      <th>Sex_female&amp;Pclass_3</th>\n",
       "      <td>144</td>\n",
       "      <td>0.500000</td>\n",
       "    </tr>\n",
       "    <tr>\n",
       "      <th>Sex_male&amp;Pclass_1</th>\n",
       "      <td>122</td>\n",
       "      <td>0.368852</td>\n",
       "    </tr>\n",
       "    <tr>\n",
       "      <th>Sex_male&amp;Pclass_2</th>\n",
       "      <td>108</td>\n",
       "      <td>0.157407</td>\n",
       "    </tr>\n",
       "    <tr>\n",
       "      <th>Sex_male&amp;Pclass_3</th>\n",
       "      <td>347</td>\n",
       "      <td>0.135447</td>\n",
       "    </tr>\n",
       "  </tbody>\n",
       "</table>\n",
       "</div>"
      ],
      "text/plain": [
       "                     Count  Survival Rate\n",
       "Sex_female&Pclass_1     94       0.968085\n",
       "Sex_female&Pclass_2     76       0.921053\n",
       "Sex_female&Pclass_3    144       0.500000\n",
       "Sex_male&Pclass_1      122       0.368852\n",
       "Sex_male&Pclass_2      108       0.157407\n",
       "Sex_male&Pclass_3      347       0.135447"
      ]
     },
     "execution_count": 20,
     "metadata": {},
     "output_type": "execute_result"
    }
   ],
   "source": [
    "pclass_gender = calculate_stats(data, category_columns[\"PclassGender\"])\n",
    "pclass_gender"
   ]
  },
  {
   "cell_type": "code",
   "execution_count": 21,
   "metadata": {
    "collapsed": false,
    "deletable": true,
    "editable": true
   },
   "outputs": [
    {
     "name": "stderr",
     "output_type": "stream",
     "text": [
      "/usr/lib64/python3.4/dist-packages/matplotlib/font_manager.py:1297: UserWarning: findfont: Font family ['sans-serif'] not found. Falling back to DejaVu Sans\n",
      "  (prop.get_family(), self.defaultFamily[fontext]))\n"
     ]
    },
    {
     "data": {
      "image/png": "[encoded data removed]",
      "text/plain": [
       "<matplotlib.figure.Figure at 0x7fa56fa506a0>"
      ]
     },
     "metadata": {},
     "output_type": "display_data"
    }
   ],
   "source": [
    "#create a nice bar chart to compare\n",
    "menpclass = pclass_gender[3:6]['Survival Rate'].tolist()\n",
    "womenpclass = pclass_gender[:3]['Survival Rate'].tolist()\n",
    "fig, ax = plt.subplots()\n",
    "\n",
    "index = np.arange(3)\n",
    "bar_width = 0.35\n",
    "\n",
    "opacity = 0.4\n",
    "rects1 = plt.bar(index, menpclass, bar_width,\n",
    "                 alpha=opacity,\n",
    "                 color='b',\n",
    "                 label='Men')\n",
    "\n",
    "rects2 = plt.bar(index + bar_width, womenpclass, bar_width,\n",
    "                 alpha=opacity,\n",
    "                 color='r',\n",
    "                 label='Women')\n",
    "\n",
    "plt.xlabel('Passenger Class')\n",
    "plt.ylabel('Survival Rate')\n",
    "plt.title('Survival Rate by Passenger Class and Gender')\n",
    "plt.xticks(index + bar_width / 2, ('Class 1', 'Class 2', 'Class 3'))\n",
    "plt.legend()\n",
    "\n",
    "plt.tight_layout()\n",
    "plt.show()\n",
    "\n"
   ]
  },
  {
   "cell_type": "code",
   "execution_count": 22,
   "metadata": {
    "collapsed": false,
    "deletable": true,
    "editable": true
   },
   "outputs": [
    {
     "data": {
      "text/html": [
       "<div>\n",
       "<table border=\"1\" class=\"dataframe\">\n",
       "  <thead>\n",
       "    <tr style=\"text-align: right;\">\n",
       "      <th></th>\n",
       "      <th>Count</th>\n",
       "      <th>Survival Rate</th>\n",
       "    </tr>\n",
       "  </thead>\n",
       "  <tbody>\n",
       "    <tr>\n",
       "      <th>Sex_female</th>\n",
       "      <td>314</td>\n",
       "      <td>0.742038</td>\n",
       "    </tr>\n",
       "    <tr>\n",
       "      <th>Sex_male</th>\n",
       "      <td>577</td>\n",
       "      <td>0.188908</td>\n",
       "    </tr>\n",
       "  </tbody>\n",
       "</table>\n",
       "</div>"
      ],
      "text/plain": [
       "            Count  Survival Rate\n",
       "Sex_female    314       0.742038\n",
       "Sex_male      577       0.188908"
      ]
     },
     "execution_count": 22,
     "metadata": {},
     "output_type": "execute_result"
    }
   ],
   "source": [
    "# This matches what I found in the exploration section, but let me recap\n",
    "gender = calculate_stats(data, category_columns[\"Sex\"])\n",
    "gender"
   ]
  },
  {
   "cell_type": "code",
   "execution_count": 23,
   "metadata": {
    "collapsed": false,
    "deletable": true,
    "editable": true
   },
   "outputs": [
    {
     "name": "stderr",
     "output_type": "stream",
     "text": [
      "/usr/lib64/python3.4/dist-packages/matplotlib/font_manager.py:1297: UserWarning: findfont: Font family ['sans-serif'] not found. Falling back to DejaVu Sans\n",
      "  (prop.get_family(), self.defaultFamily[fontext]))\n"
     ]
    },
    {
     "data": {
      "image/png": "[encoded data removed]",
      "text/plain": [
       "<matplotlib.figure.Figure at 0x7fa56f8371d0>"
      ]
     },
     "metadata": {},
     "output_type": "display_data"
    }
   ],
   "source": [
    "women = gender[0:1]['Survival Rate'].tolist()\n",
    "men = gender[1:]['Survival Rate'].tolist()\n",
    "gender\n",
    "fig, ax = plt.subplots()\n",
    "\n",
    "index = np.arange(1)\n",
    "bar_width = 0.35\n",
    "\n",
    "opacity = 0.4\n",
    "rects1 = plt.bar(index, men, bar_width,\n",
    "                 alpha=opacity,\n",
    "                 color='b',\n",
    "                 label='Men')\n",
    "\n",
    "rects2 = plt.bar(index + bar_width, women, bar_width,\n",
    "                 alpha=opacity,\n",
    "                 color='r',\n",
    "                 label='Women')\n",
    "\n",
    "plt.ylabel('Survival Rate')\n",
    "plt.title('Survival Rate by Gender')\n",
    "plt.xticks(index + bar_width / 2, (''))\n",
    "plt.legend()\n",
    "\n",
    "plt.tight_layout()\n",
    "plt.show()"
   ]
  },
  {
   "cell_type": "markdown",
   "metadata": {
    "deletable": true,
    "editable": true
   },
   "source": [
    "### Significant???\n",
    "These 2 bar charts clearly show that there is a significantly higher survival rate for females regardless of there class, right? Because these are binomial distributions lets check statistically using a 2 poportion z-test. \n",
    "references: http://stats.stackexchange.com/questions/113602/test-if-two-binomial-distributions-are-statistically-different-from-each-other and http://en.wikipedia.org/wiki/Statistical_hypothesis_testing\n",
    "\n",
    "using the following 2 formulas to calculate a z score\n",
    "$$ \\hat{p} = \\frac{n_1\\hat{p}_1+n_2\\hat{p}_2}{n_1+n_2} $$\n",
    "\n",
    "$$ z=\\frac{\\hat{p}_1 - \\hat{p}_2}{\\sqrt{\\hat{p}(1 - \\hat{p})(\\frac{1}{n_1} + \\frac{1}{n_2})}} $$\n"
   ]
  },
  {
   "cell_type": "markdown",
   "metadata": {
    "collapsed": false,
    "deletable": true,
    "editable": true
   },
   "source": [
    "#### Class 1 \n",
    "\n",
    "$$ \\hat{p} = \\frac{94\\cdot0.968085 + 122\\cdot0.368852}{94+122} $$\n",
    "\n",
    "\n",
    "$$ \\hat{p} = 0.629629324 $$\n",
    "\n",
    "\n",
    "$$ z = \\frac{0.968085 - 0.368852}{\\sqrt{0.629629324(1 - 0.629629324)(1/94 + 1/122)}} $$\n",
    "\n",
    "$$ z = 9.04181 $$\n",
    "\n",
    "This z-score is huge and verifies the statistical significance of the difference between the death rate for men and women.\n",
    "\n",
    "\n",
    "#### Class 2\n",
    "\n",
    "$$ \\hat{p} = \\frac{76\\cdot0.921053 + 108\\cdot0.157407}{76+108} $$\n",
    "\n",
    "\n",
    "$$ \\hat{p} = 0.472826 $$\n",
    "\n",
    "\n",
    "$$ z = \\frac{0.921053 - 0.157407}{\\sqrt{0.472826(1 - 0.472826)(1/76 + 1/108)}} $$\n",
    "\n",
    "$$ z = 10.21587 $$\n",
    "\n",
    "Again, this is a huge z-score\n",
    "\n",
    "\n",
    "#### Class 3\n",
    "\t144\t0.500000\n",
    "    347\t0.135447\n",
    "$$ \\hat{p} = \\frac{144\\cdot0.500000 + 347\\cdot0.135447}{144+347} $$\n",
    "\n",
    "\n",
    "$$ \\hat{p} = 0.24236 $$\n",
    "\n",
    "\n",
    "$$ z = \\frac{0.500000 - 0.135447}{\\sqrt{0.24236(1 - 0.24236)(1/144 + 1/347)}} $$\n",
    "\n",
    "$$ z = 8.58234 $$\n",
    "\n",
    "Again, this is a huge z-score"
   ]
  },
  {
   "cell_type": "markdown",
   "metadata": {
    "deletable": true,
    "editable": true
   },
   "source": [
    "### Question 2 Is there a relationship between the embark port and survial rate for men.\n",
    "I am only looking at men for this question because I already know that women has a significantly higher survial rate them men and I have a feeling that there is going to be a significant difference between the group of men. "
   ]
  },
  {
   "cell_type": "code",
   "execution_count": 25,
   "metadata": {
    "collapsed": false,
    "deletable": true,
    "editable": true
   },
   "outputs": [],
   "source": [
    "#taking out \"Embarked_nan\" because there are no values\n",
    "new_data, names = create_column_union(data, category_columns[\"Sex\"], category_columns[\"Embarked\"][:3])\n",
    "category_columns[\"GenderEmbarked\"] = names\n",
    "data = pd.concat([data,new_data], axis=1)\n"
   ]
  },
  {
   "cell_type": "code",
   "execution_count": 26,
   "metadata": {
    "collapsed": false,
    "deletable": true,
    "editable": true
   },
   "outputs": [
    {
     "data": {
      "text/html": [
       "<div>\n",
       "<table border=\"1\" class=\"dataframe\">\n",
       "  <thead>\n",
       "    <tr style=\"text-align: right;\">\n",
       "      <th></th>\n",
       "      <th>Count</th>\n",
       "      <th>Survival Rate</th>\n",
       "    </tr>\n",
       "  </thead>\n",
       "  <tbody>\n",
       "    <tr>\n",
       "      <th>Sex_male&amp;Embarked_C</th>\n",
       "      <td>95</td>\n",
       "      <td>0.305263</td>\n",
       "    </tr>\n",
       "    <tr>\n",
       "      <th>Sex_male&amp;Embarked_S</th>\n",
       "      <td>441</td>\n",
       "      <td>0.174603</td>\n",
       "    </tr>\n",
       "    <tr>\n",
       "      <th>Sex_male&amp;Embarked_Q</th>\n",
       "      <td>41</td>\n",
       "      <td>0.073171</td>\n",
       "    </tr>\n",
       "  </tbody>\n",
       "</table>\n",
       "</div>"
      ],
      "text/plain": [
       "                     Count  Survival Rate\n",
       "Sex_male&Embarked_C     95       0.305263\n",
       "Sex_male&Embarked_S    441       0.174603\n",
       "Sex_male&Embarked_Q     41       0.073171"
      ]
     },
     "execution_count": 26,
     "metadata": {},
     "output_type": "execute_result"
    }
   ],
   "source": [
    "male_embarck = calculate_stats(data, category_columns[\"GenderEmbarked\"])[3:]\n",
    "male_embarck"
   ]
  },
  {
   "cell_type": "code",
   "execution_count": null,
   "metadata": {
    "collapsed": true,
    "deletable": true,
    "editable": true
   },
   "outputs": [],
   "source": []
  }
 ],
 "metadata": {
  "anaconda-cloud": {},
  "kernelspec": {
   "display_name": "Python 3",
   "language": "python",
   "name": "python3"
  },
  "language_info": {
   "codemirror_mode": {
    "name": "ipython",
    "version": 3
   },
   "file_extension": ".py",
   "mimetype": "text/x-python",
   "name": "python",
   "nbconvert_exporter": "python",
   "pygments_lexer": "ipython3",
   "version": "3.4.3"
  }
 },
 "nbformat": 4,
 "nbformat_minor": 1
}
