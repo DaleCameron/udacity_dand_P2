{
 "cells": [
  {
   "cell_type": "markdown",
   "metadata": {},
   "source": [
    "# Setup\n",
    "The first part of the notebook is used to setup the libraries, import the data and familiarize myself with some basic questions about the data:\n",
    "- format\n",
    "- Total people\n",
    "- how many, men, women\n",
    "- general age statistics\n",
    "\n",
    "After I have this information I will hopefully be able to ask better questions. \n",
    "\n",
    "##### Skip to the Questions seciton if you don't want to see the setup and inital data exploration."
   ]
  },
  {
   "cell_type": "code",
   "execution_count": 1,
   "metadata": {
    "collapsed": true
   },
   "outputs": [],
   "source": [
    "#import important python Libs\n",
    "import numpy as np\n",
    "import pandas as pd\n",
    "import matplotlib.pyplot as plt\n",
    "import seaborn as sns\n",
    "%matplotlib inline"
   ]
  },
  {
   "cell_type": "code",
   "execution_count": 2,
   "metadata": {
    "collapsed": false
   },
   "outputs": [
    {
     "data": {
      "text/html": [
       "<div>\n",
       "<table border=\"1\" class=\"dataframe\">\n",
       "  <thead>\n",
       "    <tr style=\"text-align: right;\">\n",
       "      <th></th>\n",
       "      <th>PassengerId</th>\n",
       "      <th>Survived</th>\n",
       "      <th>Pclass</th>\n",
       "      <th>Name</th>\n",
       "      <th>Sex</th>\n",
       "      <th>Age</th>\n",
       "      <th>SibSp</th>\n",
       "      <th>Parch</th>\n",
       "      <th>Ticket</th>\n",
       "      <th>Fare</th>\n",
       "      <th>Cabin</th>\n",
       "      <th>Embarked</th>\n",
       "    </tr>\n",
       "  </thead>\n",
       "  <tbody>\n",
       "    <tr>\n",
       "      <th>0</th>\n",
       "      <td>1</td>\n",
       "      <td>0</td>\n",
       "      <td>3</td>\n",
       "      <td>Braund, Mr. Owen Harris</td>\n",
       "      <td>male</td>\n",
       "      <td>22.0</td>\n",
       "      <td>1</td>\n",
       "      <td>0</td>\n",
       "      <td>A/5 21171</td>\n",
       "      <td>7.2500</td>\n",
       "      <td>NaN</td>\n",
       "      <td>S</td>\n",
       "    </tr>\n",
       "    <tr>\n",
       "      <th>1</th>\n",
       "      <td>2</td>\n",
       "      <td>1</td>\n",
       "      <td>1</td>\n",
       "      <td>Cumings, Mrs. John Bradley (Florence Briggs Th...</td>\n",
       "      <td>female</td>\n",
       "      <td>38.0</td>\n",
       "      <td>1</td>\n",
       "      <td>0</td>\n",
       "      <td>PC 17599</td>\n",
       "      <td>71.2833</td>\n",
       "      <td>C85</td>\n",
       "      <td>C</td>\n",
       "    </tr>\n",
       "    <tr>\n",
       "      <th>2</th>\n",
       "      <td>3</td>\n",
       "      <td>1</td>\n",
       "      <td>3</td>\n",
       "      <td>Heikkinen, Miss. Laina</td>\n",
       "      <td>female</td>\n",
       "      <td>26.0</td>\n",
       "      <td>0</td>\n",
       "      <td>0</td>\n",
       "      <td>STON/O2. 3101282</td>\n",
       "      <td>7.9250</td>\n",
       "      <td>NaN</td>\n",
       "      <td>S</td>\n",
       "    </tr>\n",
       "    <tr>\n",
       "      <th>3</th>\n",
       "      <td>4</td>\n",
       "      <td>1</td>\n",
       "      <td>1</td>\n",
       "      <td>Futrelle, Mrs. Jacques Heath (Lily May Peel)</td>\n",
       "      <td>female</td>\n",
       "      <td>35.0</td>\n",
       "      <td>1</td>\n",
       "      <td>0</td>\n",
       "      <td>113803</td>\n",
       "      <td>53.1000</td>\n",
       "      <td>C123</td>\n",
       "      <td>S</td>\n",
       "    </tr>\n",
       "    <tr>\n",
       "      <th>4</th>\n",
       "      <td>5</td>\n",
       "      <td>0</td>\n",
       "      <td>3</td>\n",
       "      <td>Allen, Mr. William Henry</td>\n",
       "      <td>male</td>\n",
       "      <td>35.0</td>\n",
       "      <td>0</td>\n",
       "      <td>0</td>\n",
       "      <td>373450</td>\n",
       "      <td>8.0500</td>\n",
       "      <td>NaN</td>\n",
       "      <td>S</td>\n",
       "    </tr>\n",
       "  </tbody>\n",
       "</table>\n",
       "</div>"
      ],
      "text/plain": [
       "   PassengerId  Survived  Pclass  \\\n",
       "0            1         0       3   \n",
       "1            2         1       1   \n",
       "2            3         1       3   \n",
       "3            4         1       1   \n",
       "4            5         0       3   \n",
       "\n",
       "                                                Name     Sex   Age  SibSp  \\\n",
       "0                            Braund, Mr. Owen Harris    male  22.0      1   \n",
       "1  Cumings, Mrs. John Bradley (Florence Briggs Th...  female  38.0      1   \n",
       "2                             Heikkinen, Miss. Laina  female  26.0      0   \n",
       "3       Futrelle, Mrs. Jacques Heath (Lily May Peel)  female  35.0      1   \n",
       "4                           Allen, Mr. William Henry    male  35.0      0   \n",
       "\n",
       "   Parch            Ticket     Fare Cabin Embarked  \n",
       "0      0         A/5 21171   7.2500   NaN        S  \n",
       "1      0          PC 17599  71.2833   C85        C  \n",
       "2      0  STON/O2. 3101282   7.9250   NaN        S  \n",
       "3      0            113803  53.1000  C123        S  \n",
       "4      0            373450   8.0500   NaN        S  "
      ]
     },
     "execution_count": 2,
     "metadata": {},
     "output_type": "execute_result"
    }
   ],
   "source": [
    "# pull in the raw data and make sure in formatted correctly\n",
    "titanic_data = pd.read_csv('titanic-data.csv')\n",
    "titanic_data.head()"
   ]
  },
  {
   "cell_type": "markdown",
   "metadata": {},
   "source": [
    "### Basic Information about the data"
   ]
  },
  {
   "cell_type": "code",
   "execution_count": 3,
   "metadata": {
    "collapsed": false
   },
   "outputs": [
    {
     "name": "stdout",
     "output_type": "stream",
     "text": [
      "There are 891 passengers records in the dataset, 342 of which survived giving a survival rate of 38%\n",
      "Sex\n",
      "female    314\n",
      "male      577\n",
      "dtype: int64\n",
      "Sex     Survived\n",
      "female  0            81\n",
      "        1           233\n",
      "male    0           468\n",
      "        1           109\n",
      "dtype: int64\n",
      "for records with valid ages:\n"
     ]
    },
    {
     "data": {
      "text/plain": [
       "count    714.000000\n",
       "mean      29.699118\n",
       "std       14.526497\n",
       "min        0.420000\n",
       "25%       20.125000\n",
       "50%       28.000000\n",
       "75%       38.000000\n",
       "max       80.000000\n",
       "Name: Age, dtype: float64"
      ]
     },
     "execution_count": 3,
     "metadata": {},
     "output_type": "execute_result"
    }
   ],
   "source": [
    "print(\"There are {} passengers records in the dataset, {} of which survived giving a survival rate of {:.0%}\".format(len(titanic_data),titanic_data['Survived'].sum(), titanic_data['Survived'].mean()))\n",
    "print(titanic_data.groupby('Sex').size())\n",
    "print(titanic_data.groupby(['Sex','Survived']).size())\n",
    "\n",
    "print(\"for records with valid ages:\")\n",
    "valid_age_data = titanic_data[titanic_data['Age'].notnull()]\n",
    "valid_age_data['Age'].describe()\n"
   ]
  },
  {
   "cell_type": "code",
   "execution_count": 4,
   "metadata": {
    "collapsed": false
   },
   "outputs": [
    {
     "data": {
      "text/plain": [
       "<matplotlib.axes._subplots.AxesSubplot at 0x114e289b0>"
      ]
     },
     "execution_count": 4,
     "metadata": {},
     "output_type": "execute_result"
    },
    {
     "data": {
      "image/png": "[encoded data removed]",
      "text/plain": [
       "<matplotlib.figure.Figure at 0x114e28c50>"
      ]
     },
     "metadata": {},
     "output_type": "display_data"
    }
   ],
   "source": [
    "valid_age_data['Age'].hist(bins=16)"
   ]
  },
  {
   "cell_type": "code",
   "execution_count": 5,
   "metadata": {
    "collapsed": false
   },
   "outputs": [
    {
     "data": {
      "text/plain": [
       "Embarked\n",
       "C    168\n",
       "Q     77\n",
       "S    644\n",
       "dtype: int64"
      ]
     },
     "execution_count": 5,
     "metadata": {},
     "output_type": "execute_result"
    }
   ],
   "source": [
    "titanic_data.groupby('Embarked').size()"
   ]
  },
  {
   "cell_type": "code",
   "execution_count": 6,
   "metadata": {
    "collapsed": false
   },
   "outputs": [
    {
     "data": {
      "text/plain": [
       "Pclass\n",
       "1    216\n",
       "2    184\n",
       "3    491\n",
       "dtype: int64"
      ]
     },
     "execution_count": 6,
     "metadata": {},
     "output_type": "execute_result"
    }
   ],
   "source": [
    "titanic_data.groupby('Pclass').size()"
   ]
  },
  {
   "cell_type": "code",
   "execution_count": 7,
   "metadata": {
    "collapsed": false
   },
   "outputs": [
    {
     "data": {
      "text/plain": [
       "count    891.000000\n",
       "mean      32.204208\n",
       "std       49.693429\n",
       "min        0.000000\n",
       "25%        7.910400\n",
       "50%       14.454200\n",
       "75%       31.000000\n",
       "max      512.329200\n",
       "Name: Fare, dtype: float64"
      ]
     },
     "execution_count": 7,
     "metadata": {},
     "output_type": "execute_result"
    }
   ],
   "source": [
    "titanic_data['Fare'].describe()"
   ]
  },
  {
   "cell_type": "code",
   "execution_count": 8,
   "metadata": {
    "collapsed": false
   },
   "outputs": [
    {
     "data": {
      "text/plain": [
       "<matplotlib.axes._subplots.AxesSubplot at 0x114dcfda0>"
      ]
     },
     "execution_count": 8,
     "metadata": {},
     "output_type": "execute_result"
    },
    {
     "data": {
      "image/png": "[encoded data removed]",
      "text/plain": [
       "<matplotlib.figure.Figure at 0x114c3cfd0>"
      ]
     },
     "metadata": {},
     "output_type": "display_data"
    }
   ],
   "source": [
    "titanic_data['Fare'].hist(bins=100)"
   ]
  },
  {
   "cell_type": "markdown",
   "metadata": {},
   "source": [
    "## Data Manipulation \n",
    "\n",
    "I need to do some clean up and categorization.\n",
    "Since I will want to combine Fare, and age with other categorical data I will:\n",
    "- convert age to 5 year increments (or unknown)\n",
    "- convert fare to \\$10 increments up to \\$100 then \\$100 to \\$300 and over \\$300"
   ]
  },
  {
   "cell_type": "code",
   "execution_count": 9,
   "metadata": {
    "collapsed": false
   },
   "outputs": [],
   "source": [
    "\n",
    "#####For the age calculation I will remove the nan values then do the corrcoef calculation\n",
    "data = titanic_data  # Create a new var before I change it.\n",
    "data_age = data[data['Age'].notnull()]\n",
    "### a diction for storing the list of columns when i convert the categorial data\n",
    "category_columns = {}"
   ]
  },
  {
   "cell_type": "code",
   "execution_count": 10,
   "metadata": {
    "collapsed": false
   },
   "outputs": [],
   "source": [
    "\n",
    "## Categorize age in 5 year increments\n",
    "#### it's difficult to use a list comprehision or function here because of the nan values... so I'm goin to use a for loop\n",
    "age_cat = []\n",
    "for a in data['Age']:\n",
    "    if np.isnan(a):\n",
    "        age_cat.append('unknown')\n",
    "    else:\n",
    "        num =int((a//5) * 5)\n",
    "        age_cat.append('age{}to{}'.format(num, num + 5))\n",
    "        \n",
    "age_tmp = pd.get_dummies(age_cat)\n",
    "category_columns[\"Age\"] = age_tmp.columns.values\n",
    "data = pd.concat([data,age_tmp], axis=1)\n",
    "\n",
    "fare_cat = []\n",
    "for a in data['Fare']:\n",
    "    if np.isnan(a):\n",
    "        fare_cat.append('unknown')\n",
    "    elif a >= 200:\n",
    "        fare_cat.append('Fare200+')\n",
    "    else:\n",
    "        num =int((a//10) * 10)\n",
    "        fare_cat.append('fare{}to{}'.format(num, num + 10))\n",
    "fare_tmp = pd.get_dummies(fare_cat)\n",
    "category_columns['Fare'] = fare_tmp.columns.values\n",
    "data = pd.concat([data,fare_tmp], axis=1)\n"
   ]
  },
  {
   "cell_type": "code",
   "execution_count": 11,
   "metadata": {
    "collapsed": false
   },
   "outputs": [],
   "source": [
    "#modify the DataFrame to create a set of categorical columns out of colums using he pandas get dummies funcitons\n",
    "#should not be used with age\n",
    "for col in [\"Pclass\",\"Sex\",\"SibSp\",\"Parch\",\"Embarked\"]:\n",
    "    data = pd.concat([data,pd.get_dummies(titanic_data[col], prefix=col)], axis=1)\n",
    "    category_columns[col] = [\"{}_{}\".format(col,c) for c in data[col].unique()]\n",
    "\n",
    "\n"
   ]
  },
  {
   "cell_type": "code",
   "execution_count": 12,
   "metadata": {
    "collapsed": false
   },
   "outputs": [
    {
     "data": {
      "text/plain": [
       "0.7420382165605095"
      ]
     },
     "execution_count": 12,
     "metadata": {},
     "output_type": "execute_result"
    }
   ],
   "source": [
    "data[data['Sex_female'] ==1]['Survived'].mean()"
   ]
  },
  {
   "cell_type": "markdown",
   "metadata": {},
   "source": [
    "#### category_columns & calculate_status\n",
    "The category_columns dictionary is used to hold groupings of categories to make it easier to pass them to the caluclate_stats function\n",
    "\n",
    "The calculate_status function takes the data and and a "
   ]
  },
  {
   "cell_type": "code",
   "execution_count": 13,
   "metadata": {
    "collapsed": false
   },
   "outputs": [
    {
     "data": {
      "text/plain": [
       "{'Age': array(['age0to5', 'age10to15', 'age15to20', 'age20to25', 'age25to30',\n",
       "        'age30to35', 'age35to40', 'age40to45', 'age45to50', 'age50to55',\n",
       "        'age55to60', 'age5to10', 'age60to65', 'age65to70', 'age70to75',\n",
       "        'age80to85', 'unknown'], dtype=object),\n",
       " 'Embarked': ['Embarked_S', 'Embarked_C', 'Embarked_Q', 'Embarked_nan'],\n",
       " 'Fare': array(['Fare200+', 'fare0to10', 'fare100to110', 'fare10to20',\n",
       "        'fare110to120', 'fare120to130', 'fare130to140', 'fare140to150',\n",
       "        'fare150to160', 'fare160to170', 'fare20to30', 'fare30to40',\n",
       "        'fare40to50', 'fare50to60', 'fare60to70', 'fare70to80',\n",
       "        'fare80to90', 'fare90to100'], dtype=object),\n",
       " 'Parch': ['Parch_0',\n",
       "  'Parch_1',\n",
       "  'Parch_2',\n",
       "  'Parch_5',\n",
       "  'Parch_3',\n",
       "  'Parch_4',\n",
       "  'Parch_6'],\n",
       " 'Pclass': ['Pclass_3', 'Pclass_1', 'Pclass_2'],\n",
       " 'Sex': ['Sex_male', 'Sex_female'],\n",
       " 'SibSp': ['SibSp_1',\n",
       "  'SibSp_0',\n",
       "  'SibSp_3',\n",
       "  'SibSp_4',\n",
       "  'SibSp_2',\n",
       "  'SibSp_5',\n",
       "  'SibSp_8']}"
      ]
     },
     "execution_count": 13,
     "metadata": {},
     "output_type": "execute_result"
    }
   ],
   "source": [
    "category_columns"
   ]
  },
  {
   "cell_type": "code",
   "execution_count": 14,
   "metadata": {
    "collapsed": false
   },
   "outputs": [
    {
     "data": {
      "text/plain": [
       "Index(['PassengerId', 'Survived', 'Pclass', 'Name', 'Sex', 'Age', 'SibSp',\n",
       "       'Parch', 'Ticket', 'Fare', 'Cabin', 'Embarked', 'age0to5', 'age10to15',\n",
       "       'age15to20', 'age20to25', 'age25to30', 'age30to35', 'age35to40',\n",
       "       'age40to45', 'age45to50', 'age50to55', 'age55to60', 'age5to10',\n",
       "       'age60to65', 'age65to70', 'age70to75', 'age80to85', 'unknown',\n",
       "       'Fare200+', 'fare0to10', 'fare100to110', 'fare10to20', 'fare110to120',\n",
       "       'fare120to130', 'fare130to140', 'fare140to150', 'fare150to160',\n",
       "       'fare160to170', 'fare20to30', 'fare30to40', 'fare40to50', 'fare50to60',\n",
       "       'fare60to70', 'fare70to80', 'fare80to90', 'fare90to100', 'Pclass_1',\n",
       "       'Pclass_2', 'Pclass_3', 'Sex_female', 'Sex_male', 'SibSp_0', 'SibSp_1',\n",
       "       'SibSp_2', 'SibSp_3', 'SibSp_4', 'SibSp_5', 'SibSp_8', 'Parch_0',\n",
       "       'Parch_1', 'Parch_2', 'Parch_3', 'Parch_4', 'Parch_5', 'Parch_6',\n",
       "       'Embarked_C', 'Embarked_Q', 'Embarked_S'],\n",
       "      dtype='object')"
      ]
     },
     "execution_count": 14,
     "metadata": {},
     "output_type": "execute_result"
    }
   ],
   "source": [
    "data.columns"
   ]
  },
  {
   "cell_type": "code",
   "execution_count": 15,
   "metadata": {
    "collapsed": false
   },
   "outputs": [],
   "source": [
    "####Function to take a list of categories, combine them and find the survial rate and corrilation \n",
    "def calculate_stat(data, column):\n",
    "\n",
    "    stat = pd.DataFrame(index = [column], columns = [\"Count\", \"Survival Rate\"])\n",
    "    if column in data.columns:\n",
    "        tmp = data[data[column] == 1]\n",
    "        stat[\"Count\"] = len(tmp)\n",
    "        stat[\"Survival Rate\"] = tmp[\"Survived\"].mean()\n",
    "    else:\n",
    "        stat['Count'] = 0\n",
    "        stat['Survival Rate'] = 0\n",
    "    #return only groups that have at least one person who fell into it\n",
    "    return stat[stat['Count'] >0]\n",
    "\n",
    "\n",
    "def calculate_stats(data, cols):\n",
    "    return pd.concat([calculate_stat(data, col) for col in cols]).sort_values(\"Survival Rate\", ascending=False)\n",
    "# This function will take 2 list of columns and create a new pandas array with the value 1 if the passenger has 1 in both columns\n",
    "# this is used to combine categorical data like age and gender\n",
    "def create_column_union(data, column_group1, column_group2):\n",
    "    # create a list of the combined column names\n",
    "    new_columns = pd.DataFrame()\n",
    "    new_column_names = []\n",
    "    for col1 in column_group1:\n",
    "        for col2 in column_group2:\n",
    "            tmp_col_name = \"{}&{}\".format(col1,col2)\n",
    "            if not tmp_col_name in data.columns:\n",
    "                new_columns[tmp_col_name] = np.bitwise_and(data[col1], data[col2])\n",
    "                new_column_names.append(tmp_col_name)           \n",
    "    return new_columns, new_column_names\n"
   ]
  },
  {
   "cell_type": "code",
   "execution_count": 16,
   "metadata": {
    "collapsed": false
   },
   "outputs": [],
   "source": [
    "new_data, names = create_column_union(data, category_columns[\"Sex\"], category_columns[\"Pclass\"])\n",
    "category_columns[\"PclassGender\"] = names\n",
    "data = pd.concat([data,new_data], axis=1)\n",
    "new_data, names = create_column_union(data, category_columns[\"Age\"], category_columns[\"PclassGender\"])\n",
    "category_columns[\"PclassGenderAge\"] = names\n",
    "data = pd.concat([data,new_data], axis=1)"
   ]
  },
  {
   "cell_type": "code",
   "execution_count": 17,
   "metadata": {
    "collapsed": false
   },
   "outputs": [
    {
     "data": {
      "text/html": [
       "<div>\n",
       "<table border=\"1\" class=\"dataframe\">\n",
       "  <thead>\n",
       "    <tr style=\"text-align: right;\">\n",
       "      <th></th>\n",
       "      <th>PassengerId</th>\n",
       "      <th>Survived</th>\n",
       "      <th>Pclass</th>\n",
       "      <th>Name</th>\n",
       "      <th>Sex</th>\n",
       "      <th>Age</th>\n",
       "      <th>SibSp</th>\n",
       "      <th>Parch</th>\n",
       "      <th>Ticket</th>\n",
       "      <th>Fare</th>\n",
       "      <th>...</th>\n",
       "      <th>age80to85&amp;Sex_male&amp;Pclass_2</th>\n",
       "      <th>age80to85&amp;Sex_female&amp;Pclass_3</th>\n",
       "      <th>age80to85&amp;Sex_female&amp;Pclass_1</th>\n",
       "      <th>age80to85&amp;Sex_female&amp;Pclass_2</th>\n",
       "      <th>unknown&amp;Sex_male&amp;Pclass_3</th>\n",
       "      <th>unknown&amp;Sex_male&amp;Pclass_1</th>\n",
       "      <th>unknown&amp;Sex_male&amp;Pclass_2</th>\n",
       "      <th>unknown&amp;Sex_female&amp;Pclass_3</th>\n",
       "      <th>unknown&amp;Sex_female&amp;Pclass_1</th>\n",
       "      <th>unknown&amp;Sex_female&amp;Pclass_2</th>\n",
       "    </tr>\n",
       "  </thead>\n",
       "  <tbody>\n",
       "    <tr>\n",
       "      <th>0</th>\n",
       "      <td>1</td>\n",
       "      <td>0</td>\n",
       "      <td>3</td>\n",
       "      <td>Braund, Mr. Owen Harris</td>\n",
       "      <td>male</td>\n",
       "      <td>22.0</td>\n",
       "      <td>1</td>\n",
       "      <td>0</td>\n",
       "      <td>A/5 21171</td>\n",
       "      <td>7.2500</td>\n",
       "      <td>...</td>\n",
       "      <td>0</td>\n",
       "      <td>0</td>\n",
       "      <td>0</td>\n",
       "      <td>0</td>\n",
       "      <td>0</td>\n",
       "      <td>0</td>\n",
       "      <td>0</td>\n",
       "      <td>0</td>\n",
       "      <td>0</td>\n",
       "      <td>0</td>\n",
       "    </tr>\n",
       "    <tr>\n",
       "      <th>1</th>\n",
       "      <td>2</td>\n",
       "      <td>1</td>\n",
       "      <td>1</td>\n",
       "      <td>Cumings, Mrs. John Bradley (Florence Briggs Th...</td>\n",
       "      <td>female</td>\n",
       "      <td>38.0</td>\n",
       "      <td>1</td>\n",
       "      <td>0</td>\n",
       "      <td>PC 17599</td>\n",
       "      <td>71.2833</td>\n",
       "      <td>...</td>\n",
       "      <td>0</td>\n",
       "      <td>0</td>\n",
       "      <td>0</td>\n",
       "      <td>0</td>\n",
       "      <td>0</td>\n",
       "      <td>0</td>\n",
       "      <td>0</td>\n",
       "      <td>0</td>\n",
       "      <td>0</td>\n",
       "      <td>0</td>\n",
       "    </tr>\n",
       "    <tr>\n",
       "      <th>2</th>\n",
       "      <td>3</td>\n",
       "      <td>1</td>\n",
       "      <td>3</td>\n",
       "      <td>Heikkinen, Miss. Laina</td>\n",
       "      <td>female</td>\n",
       "      <td>26.0</td>\n",
       "      <td>0</td>\n",
       "      <td>0</td>\n",
       "      <td>STON/O2. 3101282</td>\n",
       "      <td>7.9250</td>\n",
       "      <td>...</td>\n",
       "      <td>0</td>\n",
       "      <td>0</td>\n",
       "      <td>0</td>\n",
       "      <td>0</td>\n",
       "      <td>0</td>\n",
       "      <td>0</td>\n",
       "      <td>0</td>\n",
       "      <td>0</td>\n",
       "      <td>0</td>\n",
       "      <td>0</td>\n",
       "    </tr>\n",
       "    <tr>\n",
       "      <th>3</th>\n",
       "      <td>4</td>\n",
       "      <td>1</td>\n",
       "      <td>1</td>\n",
       "      <td>Futrelle, Mrs. Jacques Heath (Lily May Peel)</td>\n",
       "      <td>female</td>\n",
       "      <td>35.0</td>\n",
       "      <td>1</td>\n",
       "      <td>0</td>\n",
       "      <td>113803</td>\n",
       "      <td>53.1000</td>\n",
       "      <td>...</td>\n",
       "      <td>0</td>\n",
       "      <td>0</td>\n",
       "      <td>0</td>\n",
       "      <td>0</td>\n",
       "      <td>0</td>\n",
       "      <td>0</td>\n",
       "      <td>0</td>\n",
       "      <td>0</td>\n",
       "      <td>0</td>\n",
       "      <td>0</td>\n",
       "    </tr>\n",
       "    <tr>\n",
       "      <th>4</th>\n",
       "      <td>5</td>\n",
       "      <td>0</td>\n",
       "      <td>3</td>\n",
       "      <td>Allen, Mr. William Henry</td>\n",
       "      <td>male</td>\n",
       "      <td>35.0</td>\n",
       "      <td>0</td>\n",
       "      <td>0</td>\n",
       "      <td>373450</td>\n",
       "      <td>8.0500</td>\n",
       "      <td>...</td>\n",
       "      <td>0</td>\n",
       "      <td>0</td>\n",
       "      <td>0</td>\n",
       "      <td>0</td>\n",
       "      <td>0</td>\n",
       "      <td>0</td>\n",
       "      <td>0</td>\n",
       "      <td>0</td>\n",
       "      <td>0</td>\n",
       "      <td>0</td>\n",
       "    </tr>\n",
       "  </tbody>\n",
       "</table>\n",
       "<p>5 rows × 177 columns</p>\n",
       "</div>"
      ],
      "text/plain": [
       "   PassengerId  Survived  Pclass  \\\n",
       "0            1         0       3   \n",
       "1            2         1       1   \n",
       "2            3         1       3   \n",
       "3            4         1       1   \n",
       "4            5         0       3   \n",
       "\n",
       "                                                Name     Sex   Age  SibSp  \\\n",
       "0                            Braund, Mr. Owen Harris    male  22.0      1   \n",
       "1  Cumings, Mrs. John Bradley (Florence Briggs Th...  female  38.0      1   \n",
       "2                             Heikkinen, Miss. Laina  female  26.0      0   \n",
       "3       Futrelle, Mrs. Jacques Heath (Lily May Peel)  female  35.0      1   \n",
       "4                           Allen, Mr. William Henry    male  35.0      0   \n",
       "\n",
       "   Parch            Ticket     Fare             ...               \\\n",
       "0      0         A/5 21171   7.2500             ...                \n",
       "1      0          PC 17599  71.2833             ...                \n",
       "2      0  STON/O2. 3101282   7.9250             ...                \n",
       "3      0            113803  53.1000             ...                \n",
       "4      0            373450   8.0500             ...                \n",
       "\n",
       "  age80to85&Sex_male&Pclass_2 age80to85&Sex_female&Pclass_3  \\\n",
       "0                           0                             0   \n",
       "1                           0                             0   \n",
       "2                           0                             0   \n",
       "3                           0                             0   \n",
       "4                           0                             0   \n",
       "\n",
       "   age80to85&Sex_female&Pclass_1  age80to85&Sex_female&Pclass_2  \\\n",
       "0                              0                              0   \n",
       "1                              0                              0   \n",
       "2                              0                              0   \n",
       "3                              0                              0   \n",
       "4                              0                              0   \n",
       "\n",
       "   unknown&Sex_male&Pclass_3  unknown&Sex_male&Pclass_1  \\\n",
       "0                          0                          0   \n",
       "1                          0                          0   \n",
       "2                          0                          0   \n",
       "3                          0                          0   \n",
       "4                          0                          0   \n",
       "\n",
       "   unknown&Sex_male&Pclass_2  unknown&Sex_female&Pclass_3  \\\n",
       "0                          0                            0   \n",
       "1                          0                            0   \n",
       "2                          0                            0   \n",
       "3                          0                            0   \n",
       "4                          0                            0   \n",
       "\n",
       "   unknown&Sex_female&Pclass_1  unknown&Sex_female&Pclass_2  \n",
       "0                            0                            0  \n",
       "1                            0                            0  \n",
       "2                            0                            0  \n",
       "3                            0                            0  \n",
       "4                            0                            0  \n",
       "\n",
       "[5 rows x 177 columns]"
      ]
     },
     "execution_count": 17,
     "metadata": {},
     "output_type": "execute_result"
    }
   ],
   "source": [
    "data.head()"
   ]
  },
  {
   "cell_type": "code",
   "execution_count": 18,
   "metadata": {
    "collapsed": false
   },
   "outputs": [
    {
     "data": {
      "text/html": [
       "<div>\n",
       "<table border=\"1\" class=\"dataframe\">\n",
       "  <thead>\n",
       "    <tr style=\"text-align: right;\">\n",
       "      <th></th>\n",
       "      <th>Count</th>\n",
       "      <th>Survival Rate</th>\n",
       "    </tr>\n",
       "  </thead>\n",
       "  <tbody>\n",
       "    <tr>\n",
       "      <th>Sex_female&amp;Pclass_1</th>\n",
       "      <td>94</td>\n",
       "      <td>0.968085</td>\n",
       "    </tr>\n",
       "    <tr>\n",
       "      <th>Sex_female&amp;Pclass_2</th>\n",
       "      <td>76</td>\n",
       "      <td>0.921053</td>\n",
       "    </tr>\n",
       "    <tr>\n",
       "      <th>Sex_female&amp;Pclass_3</th>\n",
       "      <td>144</td>\n",
       "      <td>0.500000</td>\n",
       "    </tr>\n",
       "    <tr>\n",
       "      <th>Sex_male&amp;Pclass_1</th>\n",
       "      <td>122</td>\n",
       "      <td>0.368852</td>\n",
       "    </tr>\n",
       "    <tr>\n",
       "      <th>Sex_male&amp;Pclass_2</th>\n",
       "      <td>108</td>\n",
       "      <td>0.157407</td>\n",
       "    </tr>\n",
       "    <tr>\n",
       "      <th>Sex_male&amp;Pclass_3</th>\n",
       "      <td>347</td>\n",
       "      <td>0.135447</td>\n",
       "    </tr>\n",
       "  </tbody>\n",
       "</table>\n",
       "</div>"
      ],
      "text/plain": [
       "                     Count  Survival Rate\n",
       "Sex_female&Pclass_1     94       0.968085\n",
       "Sex_female&Pclass_2     76       0.921053\n",
       "Sex_female&Pclass_3    144       0.500000\n",
       "Sex_male&Pclass_1      122       0.368852\n",
       "Sex_male&Pclass_2      108       0.157407\n",
       "Sex_male&Pclass_3      347       0.135447"
      ]
     },
     "execution_count": 18,
     "metadata": {},
     "output_type": "execute_result"
    }
   ],
   "source": [
    "calculate_stats(data, category_columns[\"PclassGender\"])"
   ]
  },
  {
   "cell_type": "code",
   "execution_count": 19,
   "metadata": {
    "collapsed": false
   },
   "outputs": [
    {
     "data": {
      "text/html": [
       "<div>\n",
       "<table border=\"1\" class=\"dataframe\">\n",
       "  <thead>\n",
       "    <tr style=\"text-align: right;\">\n",
       "      <th></th>\n",
       "      <th>Count</th>\n",
       "      <th>Survival Rate</th>\n",
       "    </tr>\n",
       "  </thead>\n",
       "  <tbody>\n",
       "    <tr>\n",
       "      <th>Embarked_C</th>\n",
       "      <td>168</td>\n",
       "      <td>0.553571</td>\n",
       "    </tr>\n",
       "    <tr>\n",
       "      <th>Embarked_Q</th>\n",
       "      <td>77</td>\n",
       "      <td>0.389610</td>\n",
       "    </tr>\n",
       "    <tr>\n",
       "      <th>Embarked_S</th>\n",
       "      <td>644</td>\n",
       "      <td>0.336957</td>\n",
       "    </tr>\n",
       "  </tbody>\n",
       "</table>\n",
       "</div>"
      ],
      "text/plain": [
       "            Count  Survival Rate\n",
       "Embarked_C    168       0.553571\n",
       "Embarked_Q     77       0.389610\n",
       "Embarked_S    644       0.336957"
      ]
     },
     "execution_count": 19,
     "metadata": {},
     "output_type": "execute_result"
    }
   ],
   "source": [
    "calculate_stats(data,category_columns['Embarked'])"
   ]
  },
  {
   "cell_type": "code",
   "execution_count": 20,
   "metadata": {
    "collapsed": false
   },
   "outputs": [
    {
     "data": {
      "text/html": [
       "<div>\n",
       "<table border=\"1\" class=\"dataframe\">\n",
       "  <thead>\n",
       "    <tr style=\"text-align: right;\">\n",
       "      <th></th>\n",
       "      <th>Count</th>\n",
       "      <th>Survival Rate</th>\n",
       "    </tr>\n",
       "  </thead>\n",
       "  <tbody>\n",
       "    <tr>\n",
       "      <th>Parch_3</th>\n",
       "      <td>5</td>\n",
       "      <td>0.600000</td>\n",
       "    </tr>\n",
       "    <tr>\n",
       "      <th>Parch_1</th>\n",
       "      <td>118</td>\n",
       "      <td>0.550847</td>\n",
       "    </tr>\n",
       "    <tr>\n",
       "      <th>SibSp_1</th>\n",
       "      <td>209</td>\n",
       "      <td>0.535885</td>\n",
       "    </tr>\n",
       "    <tr>\n",
       "      <th>Parch_2</th>\n",
       "      <td>80</td>\n",
       "      <td>0.500000</td>\n",
       "    </tr>\n",
       "    <tr>\n",
       "      <th>SibSp_2</th>\n",
       "      <td>28</td>\n",
       "      <td>0.464286</td>\n",
       "    </tr>\n",
       "    <tr>\n",
       "      <th>SibSp_0</th>\n",
       "      <td>608</td>\n",
       "      <td>0.345395</td>\n",
       "    </tr>\n",
       "    <tr>\n",
       "      <th>Parch_0</th>\n",
       "      <td>678</td>\n",
       "      <td>0.343658</td>\n",
       "    </tr>\n",
       "    <tr>\n",
       "      <th>SibSp_3</th>\n",
       "      <td>16</td>\n",
       "      <td>0.250000</td>\n",
       "    </tr>\n",
       "    <tr>\n",
       "      <th>Parch_5</th>\n",
       "      <td>5</td>\n",
       "      <td>0.200000</td>\n",
       "    </tr>\n",
       "    <tr>\n",
       "      <th>SibSp_4</th>\n",
       "      <td>18</td>\n",
       "      <td>0.166667</td>\n",
       "    </tr>\n",
       "    <tr>\n",
       "      <th>Parch_4</th>\n",
       "      <td>4</td>\n",
       "      <td>0.000000</td>\n",
       "    </tr>\n",
       "    <tr>\n",
       "      <th>Parch_6</th>\n",
       "      <td>1</td>\n",
       "      <td>0.000000</td>\n",
       "    </tr>\n",
       "    <tr>\n",
       "      <th>SibSp_5</th>\n",
       "      <td>5</td>\n",
       "      <td>0.000000</td>\n",
       "    </tr>\n",
       "    <tr>\n",
       "      <th>SibSp_8</th>\n",
       "      <td>7</td>\n",
       "      <td>0.000000</td>\n",
       "    </tr>\n",
       "  </tbody>\n",
       "</table>\n",
       "</div>"
      ],
      "text/plain": [
       "         Count  Survival Rate\n",
       "Parch_3      5       0.600000\n",
       "Parch_1    118       0.550847\n",
       "SibSp_1    209       0.535885\n",
       "Parch_2     80       0.500000\n",
       "SibSp_2     28       0.464286\n",
       "SibSp_0    608       0.345395\n",
       "Parch_0    678       0.343658\n",
       "SibSp_3     16       0.250000\n",
       "Parch_5      5       0.200000\n",
       "SibSp_4     18       0.166667\n",
       "Parch_4      4       0.000000\n",
       "Parch_6      1       0.000000\n",
       "SibSp_5      5       0.000000\n",
       "SibSp_8      7       0.000000"
      ]
     },
     "execution_count": 20,
     "metadata": {},
     "output_type": "execute_result"
    }
   ],
   "source": [
    "calculate_stats(data, category_columns['Parch'] + category_columns['SibSp'])"
   ]
  },
  {
   "cell_type": "code",
   "execution_count": 21,
   "metadata": {
    "collapsed": false
   },
   "outputs": [
    {
     "data": {
      "text/html": [
       "<div>\n",
       "<table border=\"1\" class=\"dataframe\">\n",
       "  <thead>\n",
       "    <tr style=\"text-align: right;\">\n",
       "      <th></th>\n",
       "      <th>Count</th>\n",
       "      <th>Survival Rate</th>\n",
       "    </tr>\n",
       "  </thead>\n",
       "  <tbody>\n",
       "    <tr>\n",
       "      <th>unknown&amp;Sex_female&amp;Pclass_2</th>\n",
       "      <td>2</td>\n",
       "      <td>1.000000</td>\n",
       "    </tr>\n",
       "    <tr>\n",
       "      <th>age15to20&amp;Sex_female&amp;Pclass_1</th>\n",
       "      <td>12</td>\n",
       "      <td>1.000000</td>\n",
       "    </tr>\n",
       "    <tr>\n",
       "      <th>age0to5&amp;Sex_male&amp;Pclass_1</th>\n",
       "      <td>2</td>\n",
       "      <td>1.000000</td>\n",
       "    </tr>\n",
       "    <tr>\n",
       "      <th>age40to45&amp;Sex_female&amp;Pclass_1</th>\n",
       "      <td>7</td>\n",
       "      <td>1.000000</td>\n",
       "    </tr>\n",
       "    <tr>\n",
       "      <th>age30to35&amp;Sex_female&amp;Pclass_2</th>\n",
       "      <td>12</td>\n",
       "      <td>1.000000</td>\n",
       "    </tr>\n",
       "    <tr>\n",
       "      <th>age30to35&amp;Sex_female&amp;Pclass_1</th>\n",
       "      <td>11</td>\n",
       "      <td>1.000000</td>\n",
       "    </tr>\n",
       "    <tr>\n",
       "      <th>age45to50&amp;Sex_female&amp;Pclass_1</th>\n",
       "      <td>6</td>\n",
       "      <td>1.000000</td>\n",
       "    </tr>\n",
       "    <tr>\n",
       "      <th>age45to50&amp;Sex_female&amp;Pclass_2</th>\n",
       "      <td>3</td>\n",
       "      <td>1.000000</td>\n",
       "    </tr>\n",
       "    <tr>\n",
       "      <th>age50to55&amp;Sex_female&amp;Pclass_2</th>\n",
       "      <td>4</td>\n",
       "      <td>1.000000</td>\n",
       "    </tr>\n",
       "    <tr>\n",
       "      <th>age55to60&amp;Sex_female&amp;Pclass_1</th>\n",
       "      <td>4</td>\n",
       "      <td>1.000000</td>\n",
       "    </tr>\n",
       "    <tr>\n",
       "      <th>age20to25&amp;Sex_female&amp;Pclass_1</th>\n",
       "      <td>13</td>\n",
       "      <td>1.000000</td>\n",
       "    </tr>\n",
       "    <tr>\n",
       "      <th>age5to10&amp;Sex_male&amp;Pclass_2</th>\n",
       "      <td>1</td>\n",
       "      <td>1.000000</td>\n",
       "    </tr>\n",
       "    <tr>\n",
       "      <th>age5to10&amp;Sex_female&amp;Pclass_2</th>\n",
       "      <td>4</td>\n",
       "      <td>1.000000</td>\n",
       "    </tr>\n",
       "    <tr>\n",
       "      <th>age15to20&amp;Sex_female&amp;Pclass_2</th>\n",
       "      <td>6</td>\n",
       "      <td>1.000000</td>\n",
       "    </tr>\n",
       "    <tr>\n",
       "      <th>age35to40&amp;Sex_female&amp;Pclass_1</th>\n",
       "      <td>16</td>\n",
       "      <td>1.000000</td>\n",
       "    </tr>\n",
       "    <tr>\n",
       "      <th>age10to15&amp;Sex_female&amp;Pclass_1</th>\n",
       "      <td>1</td>\n",
       "      <td>1.000000</td>\n",
       "    </tr>\n",
       "    <tr>\n",
       "      <th>age10to15&amp;Sex_female&amp;Pclass_2</th>\n",
       "      <td>2</td>\n",
       "      <td>1.000000</td>\n",
       "    </tr>\n",
       "    <tr>\n",
       "      <th>age10to15&amp;Sex_male&amp;Pclass_1</th>\n",
       "      <td>1</td>\n",
       "      <td>1.000000</td>\n",
       "    </tr>\n",
       "    <tr>\n",
       "      <th>unknown&amp;Sex_female&amp;Pclass_1</th>\n",
       "      <td>9</td>\n",
       "      <td>1.000000</td>\n",
       "    </tr>\n",
       "    <tr>\n",
       "      <th>age80to85&amp;Sex_male&amp;Pclass_1</th>\n",
       "      <td>1</td>\n",
       "      <td>1.000000</td>\n",
       "    </tr>\n",
       "    <tr>\n",
       "      <th>age0to5&amp;Sex_female&amp;Pclass_2</th>\n",
       "      <td>4</td>\n",
       "      <td>1.000000</td>\n",
       "    </tr>\n",
       "    <tr>\n",
       "      <th>age0to5&amp;Sex_male&amp;Pclass_2</th>\n",
       "      <td>8</td>\n",
       "      <td>1.000000</td>\n",
       "    </tr>\n",
       "    <tr>\n",
       "      <th>age60to65&amp;Sex_female&amp;Pclass_1</th>\n",
       "      <td>3</td>\n",
       "      <td>1.000000</td>\n",
       "    </tr>\n",
       "    <tr>\n",
       "      <th>age60to65&amp;Sex_female&amp;Pclass_3</th>\n",
       "      <td>1</td>\n",
       "      <td>1.000000</td>\n",
       "    </tr>\n",
       "    <tr>\n",
       "      <th>age20to25&amp;Sex_female&amp;Pclass_2</th>\n",
       "      <td>11</td>\n",
       "      <td>0.909091</td>\n",
       "    </tr>\n",
       "    <tr>\n",
       "      <th>age50to55&amp;Sex_female&amp;Pclass_1</th>\n",
       "      <td>8</td>\n",
       "      <td>0.875000</td>\n",
       "    </tr>\n",
       "    <tr>\n",
       "      <th>age40to45&amp;Sex_female&amp;Pclass_2</th>\n",
       "      <td>7</td>\n",
       "      <td>0.857143</td>\n",
       "    </tr>\n",
       "    <tr>\n",
       "      <th>age25to30&amp;Sex_female&amp;Pclass_2</th>\n",
       "      <td>14</td>\n",
       "      <td>0.857143</td>\n",
       "    </tr>\n",
       "    <tr>\n",
       "      <th>age35to40&amp;Sex_female&amp;Pclass_2</th>\n",
       "      <td>5</td>\n",
       "      <td>0.800000</td>\n",
       "    </tr>\n",
       "    <tr>\n",
       "      <th>age0to5&amp;Sex_female&amp;Pclass_3</th>\n",
       "      <td>12</td>\n",
       "      <td>0.666667</td>\n",
       "    </tr>\n",
       "    <tr>\n",
       "      <th>...</th>\n",
       "      <td>...</td>\n",
       "      <td>...</td>\n",
       "    </tr>\n",
       "    <tr>\n",
       "      <th>age40to45&amp;Sex_male&amp;Pclass_2</th>\n",
       "      <td>5</td>\n",
       "      <td>0.200000</td>\n",
       "    </tr>\n",
       "    <tr>\n",
       "      <th>age55to60&amp;Sex_male&amp;Pclass_1</th>\n",
       "      <td>6</td>\n",
       "      <td>0.166667</td>\n",
       "    </tr>\n",
       "    <tr>\n",
       "      <th>age10to15&amp;Sex_male&amp;Pclass_3</th>\n",
       "      <td>6</td>\n",
       "      <td>0.166667</td>\n",
       "    </tr>\n",
       "    <tr>\n",
       "      <th>age30to35&amp;Sex_male&amp;Pclass_2</th>\n",
       "      <td>20</td>\n",
       "      <td>0.150000</td>\n",
       "    </tr>\n",
       "    <tr>\n",
       "      <th>age45to50&amp;Sex_male&amp;Pclass_3</th>\n",
       "      <td>7</td>\n",
       "      <td>0.142857</td>\n",
       "    </tr>\n",
       "    <tr>\n",
       "      <th>age60to65&amp;Sex_male&amp;Pclass_1</th>\n",
       "      <td>8</td>\n",
       "      <td>0.125000</td>\n",
       "    </tr>\n",
       "    <tr>\n",
       "      <th>age20to25&amp;Sex_male&amp;Pclass_3</th>\n",
       "      <td>55</td>\n",
       "      <td>0.109091</td>\n",
       "    </tr>\n",
       "    <tr>\n",
       "      <th>age15to20&amp;Sex_male&amp;Pclass_2</th>\n",
       "      <td>10</td>\n",
       "      <td>0.100000</td>\n",
       "    </tr>\n",
       "    <tr>\n",
       "      <th>unknown&amp;Sex_male&amp;Pclass_3</th>\n",
       "      <td>94</td>\n",
       "      <td>0.095745</td>\n",
       "    </tr>\n",
       "    <tr>\n",
       "      <th>age15to20&amp;Sex_male&amp;Pclass_3</th>\n",
       "      <td>36</td>\n",
       "      <td>0.083333</td>\n",
       "    </tr>\n",
       "    <tr>\n",
       "      <th>age35to40&amp;Sex_male&amp;Pclass_3</th>\n",
       "      <td>18</td>\n",
       "      <td>0.055556</td>\n",
       "    </tr>\n",
       "    <tr>\n",
       "      <th>age40to45&amp;Sex_male&amp;Pclass_3</th>\n",
       "      <td>18</td>\n",
       "      <td>0.055556</td>\n",
       "    </tr>\n",
       "    <tr>\n",
       "      <th>age70to75&amp;Sex_male&amp;Pclass_1</th>\n",
       "      <td>3</td>\n",
       "      <td>0.000000</td>\n",
       "    </tr>\n",
       "    <tr>\n",
       "      <th>age0to5&amp;Sex_female&amp;Pclass_1</th>\n",
       "      <td>1</td>\n",
       "      <td>0.000000</td>\n",
       "    </tr>\n",
       "    <tr>\n",
       "      <th>age45to50&amp;Sex_male&amp;Pclass_2</th>\n",
       "      <td>3</td>\n",
       "      <td>0.000000</td>\n",
       "    </tr>\n",
       "    <tr>\n",
       "      <th>age45to50&amp;Sex_female&amp;Pclass_3</th>\n",
       "      <td>5</td>\n",
       "      <td>0.000000</td>\n",
       "    </tr>\n",
       "    <tr>\n",
       "      <th>age50to55&amp;Sex_male&amp;Pclass_3</th>\n",
       "      <td>4</td>\n",
       "      <td>0.000000</td>\n",
       "    </tr>\n",
       "    <tr>\n",
       "      <th>age50to55&amp;Sex_male&amp;Pclass_2</th>\n",
       "      <td>7</td>\n",
       "      <td>0.000000</td>\n",
       "    </tr>\n",
       "    <tr>\n",
       "      <th>age25to30&amp;Sex_male&amp;Pclass_2</th>\n",
       "      <td>16</td>\n",
       "      <td>0.000000</td>\n",
       "    </tr>\n",
       "    <tr>\n",
       "      <th>age70to75&amp;Sex_male&amp;Pclass_2</th>\n",
       "      <td>1</td>\n",
       "      <td>0.000000</td>\n",
       "    </tr>\n",
       "    <tr>\n",
       "      <th>age40to45&amp;Sex_female&amp;Pclass_3</th>\n",
       "      <td>4</td>\n",
       "      <td>0.000000</td>\n",
       "    </tr>\n",
       "    <tr>\n",
       "      <th>age60to65&amp;Sex_male&amp;Pclass_3</th>\n",
       "      <td>1</td>\n",
       "      <td>0.000000</td>\n",
       "    </tr>\n",
       "    <tr>\n",
       "      <th>age65to70&amp;Sex_male&amp;Pclass_2</th>\n",
       "      <td>1</td>\n",
       "      <td>0.000000</td>\n",
       "    </tr>\n",
       "    <tr>\n",
       "      <th>age65to70&amp;Sex_male&amp;Pclass_1</th>\n",
       "      <td>2</td>\n",
       "      <td>0.000000</td>\n",
       "    </tr>\n",
       "    <tr>\n",
       "      <th>age65to70&amp;Sex_male&amp;Pclass_3</th>\n",
       "      <td>1</td>\n",
       "      <td>0.000000</td>\n",
       "    </tr>\n",
       "    <tr>\n",
       "      <th>age55to60&amp;Sex_male&amp;Pclass_3</th>\n",
       "      <td>2</td>\n",
       "      <td>0.000000</td>\n",
       "    </tr>\n",
       "    <tr>\n",
       "      <th>age55to60&amp;Sex_male&amp;Pclass_2</th>\n",
       "      <td>2</td>\n",
       "      <td>0.000000</td>\n",
       "    </tr>\n",
       "    <tr>\n",
       "      <th>age20to25&amp;Sex_male&amp;Pclass_2</th>\n",
       "      <td>12</td>\n",
       "      <td>0.000000</td>\n",
       "    </tr>\n",
       "    <tr>\n",
       "      <th>age35to40&amp;Sex_male&amp;Pclass_2</th>\n",
       "      <td>11</td>\n",
       "      <td>0.000000</td>\n",
       "    </tr>\n",
       "    <tr>\n",
       "      <th>age70to75&amp;Sex_male&amp;Pclass_3</th>\n",
       "      <td>2</td>\n",
       "      <td>0.000000</td>\n",
       "    </tr>\n",
       "  </tbody>\n",
       "</table>\n",
       "<p>85 rows × 2 columns</p>\n",
       "</div>"
      ],
      "text/plain": [
       "                               Count  Survival Rate\n",
       "unknown&Sex_female&Pclass_2        2       1.000000\n",
       "age15to20&Sex_female&Pclass_1     12       1.000000\n",
       "age0to5&Sex_male&Pclass_1          2       1.000000\n",
       "age40to45&Sex_female&Pclass_1      7       1.000000\n",
       "age30to35&Sex_female&Pclass_2     12       1.000000\n",
       "age30to35&Sex_female&Pclass_1     11       1.000000\n",
       "age45to50&Sex_female&Pclass_1      6       1.000000\n",
       "age45to50&Sex_female&Pclass_2      3       1.000000\n",
       "age50to55&Sex_female&Pclass_2      4       1.000000\n",
       "age55to60&Sex_female&Pclass_1      4       1.000000\n",
       "age20to25&Sex_female&Pclass_1     13       1.000000\n",
       "age5to10&Sex_male&Pclass_2         1       1.000000\n",
       "age5to10&Sex_female&Pclass_2       4       1.000000\n",
       "age15to20&Sex_female&Pclass_2      6       1.000000\n",
       "age35to40&Sex_female&Pclass_1     16       1.000000\n",
       "age10to15&Sex_female&Pclass_1      1       1.000000\n",
       "age10to15&Sex_female&Pclass_2      2       1.000000\n",
       "age10to15&Sex_male&Pclass_1        1       1.000000\n",
       "unknown&Sex_female&Pclass_1        9       1.000000\n",
       "age80to85&Sex_male&Pclass_1        1       1.000000\n",
       "age0to5&Sex_female&Pclass_2        4       1.000000\n",
       "age0to5&Sex_male&Pclass_2          8       1.000000\n",
       "age60to65&Sex_female&Pclass_1      3       1.000000\n",
       "age60to65&Sex_female&Pclass_3      1       1.000000\n",
       "age20to25&Sex_female&Pclass_2     11       0.909091\n",
       "age50to55&Sex_female&Pclass_1      8       0.875000\n",
       "age40to45&Sex_female&Pclass_2      7       0.857143\n",
       "age25to30&Sex_female&Pclass_2     14       0.857143\n",
       "age35to40&Sex_female&Pclass_2      5       0.800000\n",
       "age0to5&Sex_female&Pclass_3       12       0.666667\n",
       "...                              ...            ...\n",
       "age40to45&Sex_male&Pclass_2        5       0.200000\n",
       "age55to60&Sex_male&Pclass_1        6       0.166667\n",
       "age10to15&Sex_male&Pclass_3        6       0.166667\n",
       "age30to35&Sex_male&Pclass_2       20       0.150000\n",
       "age45to50&Sex_male&Pclass_3        7       0.142857\n",
       "age60to65&Sex_male&Pclass_1        8       0.125000\n",
       "age20to25&Sex_male&Pclass_3       55       0.109091\n",
       "age15to20&Sex_male&Pclass_2       10       0.100000\n",
       "unknown&Sex_male&Pclass_3         94       0.095745\n",
       "age15to20&Sex_male&Pclass_3       36       0.083333\n",
       "age35to40&Sex_male&Pclass_3       18       0.055556\n",
       "age40to45&Sex_male&Pclass_3       18       0.055556\n",
       "age70to75&Sex_male&Pclass_1        3       0.000000\n",
       "age0to5&Sex_female&Pclass_1        1       0.000000\n",
       "age45to50&Sex_male&Pclass_2        3       0.000000\n",
       "age45to50&Sex_female&Pclass_3      5       0.000000\n",
       "age50to55&Sex_male&Pclass_3        4       0.000000\n",
       "age50to55&Sex_male&Pclass_2        7       0.000000\n",
       "age25to30&Sex_male&Pclass_2       16       0.000000\n",
       "age70to75&Sex_male&Pclass_2        1       0.000000\n",
       "age40to45&Sex_female&Pclass_3      4       0.000000\n",
       "age60to65&Sex_male&Pclass_3        1       0.000000\n",
       "age65to70&Sex_male&Pclass_2        1       0.000000\n",
       "age65to70&Sex_male&Pclass_1        2       0.000000\n",
       "age65to70&Sex_male&Pclass_3        1       0.000000\n",
       "age55to60&Sex_male&Pclass_3        2       0.000000\n",
       "age55to60&Sex_male&Pclass_2        2       0.000000\n",
       "age20to25&Sex_male&Pclass_2       12       0.000000\n",
       "age35to40&Sex_male&Pclass_2       11       0.000000\n",
       "age70to75&Sex_male&Pclass_3        2       0.000000\n",
       "\n",
       "[85 rows x 2 columns]"
      ]
     },
     "execution_count": 21,
     "metadata": {},
     "output_type": "execute_result"
    }
   ],
   "source": [
    "calculate_stats(data, category_columns['PclassGenderAge'])"
   ]
  },
  {
   "cell_type": "markdown",
   "metadata": {},
   "source": [
    "# Questions\n",
    "\n",
    "The most obvious line of questions is around the survial rate of different demographics represented in the dataset, and this is the aspect of the data that I will be exploring. \n",
    "\n",
    "#### Question 1: What were the demographic with the highest and lowest survial rates?\n",
    "\n"
   ]
  },
  {
   "cell_type": "code",
   "execution_count": 22,
   "metadata": {
    "collapsed": false
   },
   "outputs": [
    {
     "name": "stdout",
     "output_type": "stream",
     "text": [
      "The Correlation of Age to Survival is:-0.07722109457217764.\n",
      "The Correlation of Fare to Survival is:0.25730652238496227.\n",
      "The Correlation of the number of Sibling/Spouses on board to Survival is:-0.03532249888573559.\n",
      "The Correlation of the number Parents/Children on board to Survival is:0.08162940708348365.\n"
     ]
    }
   ],
   "source": [
    "age_pr = np.corrcoef(data_age['Survived'], data_age['Age'], rowvar=1).item(1)\n",
    "print(\"The Correlation of Age to Survival is:{}.\".format(age_pr))\n",
    "fare_pr = np.corrcoef(data['Survived'], data['Fare'], rowvar=1).item(1)\n",
    "print(\"The Correlation of Fare to Survival is:{}.\".format(fare_pr))\n",
    "SibSp_pr = np.corrcoef(data['Survived'], data['SibSp'], rowvar=1).item(1)\n",
    "print(\"The Correlation of the number of Sibling/Spouses on board to Survival is:{}.\".format(SibSp_pr))\n",
    "Parch_pr = np.corrcoef(data['Survived'], data['Parch'], rowvar=1).item(1)\n",
    "print(\"The Correlation of the number Parents/Children on board to Survival is:{}.\".format(Parch_pr))"
   ]
  },
  {
   "cell_type": "code",
   "execution_count": null,
   "metadata": {
    "collapsed": false
   },
   "outputs": [],
   "source": []
  },
  {
   "cell_type": "code",
   "execution_count": null,
   "metadata": {
    "collapsed": true
   },
   "outputs": [],
   "source": []
  },
  {
   "cell_type": "code",
   "execution_count": null,
   "metadata": {
    "collapsed": true
   },
   "outputs": [],
   "source": []
  }
 ],
 "metadata": {
  "anaconda-cloud": {},
  "kernelspec": {
   "display_name": "Python [conda root]",
   "language": "python",
   "name": "conda-root-py"
  },
  "language_info": {
   "codemirror_mode": {
    "name": "ipython",
    "version": 3
   },
   "file_extension": ".py",
   "mimetype": "text/x-python",
   "name": "python",
   "nbconvert_exporter": "python",
   "pygments_lexer": "ipython3",
   "version": "3.5.2"
  }
 },
 "nbformat": 4,
 "nbformat_minor": 1
}
